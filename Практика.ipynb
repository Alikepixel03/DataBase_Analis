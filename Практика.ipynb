{
 "cells": [
  {
   "cell_type": "code",
   "execution_count": 1,
   "id": "598d6f0f-8f97-44d0-a09f-a926fe857448",
   "metadata": {},
   "outputs": [],
   "source": [
    "import pandas as pd\n",
    "import matplotlib.pyplot as plt\n",
    "import numpy as np\n",
    "from random import Random\n",
    "import seaborn as sns\n",
    "\n",
    "import moviepy.editor as mpy\n",
    "from sklearn.model_selection import train_test_split\n",
    "from sklearn.metrics import mean_absolute_error\n",
    "from sklearn.ensemble import RandomForestRegressor\n",
    "from sklearn.linear_model import Lasso\n",
    "from sklearn.linear_model import ElasticNet\n",
    "from sklearn.model_selection import GridSearchCV"
   ]
  },
  {
   "cell_type": "markdown",
   "id": "ff2f396c-4fff-4742-a72e-786017c9a51c",
   "metadata": {},
   "source": [
    "Датасет: https://www.kaggle.com/datasets/gregorut/videogamesales"
   ]
  },
  {
   "cell_type": "code",
   "execution_count": 2,
   "id": "657b6045-c5cf-477c-8dcf-00c7ec9dc019",
   "metadata": {},
   "outputs": [],
   "source": [
    "df = pd.read_csv(\"vgsales.csv\", sep=\",\")"
   ]
  },
  {
   "cell_type": "markdown",
   "id": "d9957eb5-3be4-44b2-987a-bcae45e51610",
   "metadata": {},
   "source": [
    "# Вывод данных"
   ]
  },
  {
   "cell_type": "markdown",
   "id": "aa3903fc-5e05-4e02-be76-0b5b70d2a4b5",
   "metadata": {},
   "source": [
    "Первые несколько строк таблицы:"
   ]
  },
  {
   "cell_type": "code",
   "execution_count": 3,
   "id": "bfe162db-82cf-475f-ba50-e50578eb1119",
   "metadata": {},
   "outputs": [
    {
     "data": {
      "text/html": [
       "<div>\n",
       "<style scoped>\n",
       "    .dataframe tbody tr th:only-of-type {\n",
       "        vertical-align: middle;\n",
       "    }\n",
       "\n",
       "    .dataframe tbody tr th {\n",
       "        vertical-align: top;\n",
       "    }\n",
       "\n",
       "    .dataframe thead th {\n",
       "        text-align: right;\n",
       "    }\n",
       "</style>\n",
       "<table border=\"1\" class=\"dataframe\">\n",
       "  <thead>\n",
       "    <tr style=\"text-align: right;\">\n",
       "      <th></th>\n",
       "      <th>Rank</th>\n",
       "      <th>Name</th>\n",
       "      <th>Platform</th>\n",
       "      <th>Year</th>\n",
       "      <th>Genre</th>\n",
       "      <th>Publisher</th>\n",
       "      <th>NA_Sales</th>\n",
       "      <th>EU_Sales</th>\n",
       "      <th>JP_Sales</th>\n",
       "      <th>Other_Sales</th>\n",
       "      <th>Global_Sales</th>\n",
       "    </tr>\n",
       "  </thead>\n",
       "  <tbody>\n",
       "    <tr>\n",
       "      <th>0</th>\n",
       "      <td>1</td>\n",
       "      <td>Wii Sports</td>\n",
       "      <td>Wii</td>\n",
       "      <td>2006.0</td>\n",
       "      <td>Sports</td>\n",
       "      <td>Nintendo</td>\n",
       "      <td>41.49</td>\n",
       "      <td>29.02</td>\n",
       "      <td>3.77</td>\n",
       "      <td>8.46</td>\n",
       "      <td>82.74</td>\n",
       "    </tr>\n",
       "    <tr>\n",
       "      <th>1</th>\n",
       "      <td>2</td>\n",
       "      <td>Super Mario Bros.</td>\n",
       "      <td>NES</td>\n",
       "      <td>1985.0</td>\n",
       "      <td>Platform</td>\n",
       "      <td>Nintendo</td>\n",
       "      <td>29.08</td>\n",
       "      <td>3.58</td>\n",
       "      <td>6.81</td>\n",
       "      <td>0.77</td>\n",
       "      <td>40.24</td>\n",
       "    </tr>\n",
       "    <tr>\n",
       "      <th>2</th>\n",
       "      <td>3</td>\n",
       "      <td>Mario Kart Wii</td>\n",
       "      <td>Wii</td>\n",
       "      <td>2008.0</td>\n",
       "      <td>Racing</td>\n",
       "      <td>Nintendo</td>\n",
       "      <td>15.85</td>\n",
       "      <td>12.88</td>\n",
       "      <td>3.79</td>\n",
       "      <td>3.31</td>\n",
       "      <td>35.82</td>\n",
       "    </tr>\n",
       "    <tr>\n",
       "      <th>3</th>\n",
       "      <td>4</td>\n",
       "      <td>Wii Sports Resort</td>\n",
       "      <td>Wii</td>\n",
       "      <td>2009.0</td>\n",
       "      <td>Sports</td>\n",
       "      <td>Nintendo</td>\n",
       "      <td>15.75</td>\n",
       "      <td>11.01</td>\n",
       "      <td>3.28</td>\n",
       "      <td>2.96</td>\n",
       "      <td>33.00</td>\n",
       "    </tr>\n",
       "    <tr>\n",
       "      <th>4</th>\n",
       "      <td>5</td>\n",
       "      <td>Pokemon Red/Pokemon Blue</td>\n",
       "      <td>GB</td>\n",
       "      <td>1996.0</td>\n",
       "      <td>Role-Playing</td>\n",
       "      <td>Nintendo</td>\n",
       "      <td>11.27</td>\n",
       "      <td>8.89</td>\n",
       "      <td>10.22</td>\n",
       "      <td>1.00</td>\n",
       "      <td>31.37</td>\n",
       "    </tr>\n",
       "  </tbody>\n",
       "</table>\n",
       "</div>"
      ],
      "text/plain": [
       "   Rank                      Name Platform    Year         Genre Publisher  \\\n",
       "0     1                Wii Sports      Wii  2006.0        Sports  Nintendo   \n",
       "1     2         Super Mario Bros.      NES  1985.0      Platform  Nintendo   \n",
       "2     3            Mario Kart Wii      Wii  2008.0        Racing  Nintendo   \n",
       "3     4         Wii Sports Resort      Wii  2009.0        Sports  Nintendo   \n",
       "4     5  Pokemon Red/Pokemon Blue       GB  1996.0  Role-Playing  Nintendo   \n",
       "\n",
       "   NA_Sales  EU_Sales  JP_Sales  Other_Sales  Global_Sales  \n",
       "0     41.49     29.02      3.77         8.46         82.74  \n",
       "1     29.08      3.58      6.81         0.77         40.24  \n",
       "2     15.85     12.88      3.79         3.31         35.82  \n",
       "3     15.75     11.01      3.28         2.96         33.00  \n",
       "4     11.27      8.89     10.22         1.00         31.37  "
      ]
     },
     "execution_count": 3,
     "metadata": {},
     "output_type": "execute_result"
    }
   ],
   "source": [
    "df.head()"
   ]
  },
  {
   "cell_type": "code",
   "execution_count": 4,
   "id": "0f3d9b58-cf12-4bf1-b07b-6e04b6a7d5af",
   "metadata": {},
   "outputs": [
    {
     "name": "stdout",
     "output_type": "stream",
     "text": [
      "<class 'pandas.core.frame.DataFrame'>\n",
      "RangeIndex: 16598 entries, 0 to 16597\n",
      "Data columns (total 11 columns):\n",
      " #   Column        Non-Null Count  Dtype  \n",
      "---  ------        --------------  -----  \n",
      " 0   Rank          16598 non-null  int64  \n",
      " 1   Name          16598 non-null  object \n",
      " 2   Platform      16598 non-null  object \n",
      " 3   Year          16327 non-null  float64\n",
      " 4   Genre         16598 non-null  object \n",
      " 5   Publisher     16540 non-null  object \n",
      " 6   NA_Sales      16598 non-null  float64\n",
      " 7   EU_Sales      16598 non-null  float64\n",
      " 8   JP_Sales      16598 non-null  float64\n",
      " 9   Other_Sales   16598 non-null  float64\n",
      " 10  Global_Sales  16598 non-null  float64\n",
      "dtypes: float64(6), int64(1), object(4)\n",
      "memory usage: 1.4+ MB\n"
     ]
    }
   ],
   "source": [
    "df.info()"
   ]
  },
  {
   "cell_type": "markdown",
   "id": "cfa1a12a-399c-406b-9c28-7629f24ca80b",
   "metadata": {},
   "source": [
    "Всего 16.5 тысяч записей и 11 колонок"
   ]
  },
  {
   "cell_type": "markdown",
   "id": "e935ca40-2956-49ba-b8d8-cedb2c3e4810",
   "metadata": {},
   "source": [
    "5 игры с конца топа:"
   ]
  },
  {
   "cell_type": "code",
   "execution_count": 5,
   "id": "963f91b8-fe08-4ae4-914e-2c57789a39fc",
   "metadata": {},
   "outputs": [
    {
     "data": {
      "text/html": [
       "<div>\n",
       "<style scoped>\n",
       "    .dataframe tbody tr th:only-of-type {\n",
       "        vertical-align: middle;\n",
       "    }\n",
       "\n",
       "    .dataframe tbody tr th {\n",
       "        vertical-align: top;\n",
       "    }\n",
       "\n",
       "    .dataframe thead th {\n",
       "        text-align: right;\n",
       "    }\n",
       "</style>\n",
       "<table border=\"1\" class=\"dataframe\">\n",
       "  <thead>\n",
       "    <tr style=\"text-align: right;\">\n",
       "      <th></th>\n",
       "      <th>Rank</th>\n",
       "      <th>Name</th>\n",
       "      <th>Platform</th>\n",
       "      <th>Year</th>\n",
       "      <th>Genre</th>\n",
       "      <th>Publisher</th>\n",
       "      <th>NA_Sales</th>\n",
       "      <th>EU_Sales</th>\n",
       "      <th>JP_Sales</th>\n",
       "      <th>Other_Sales</th>\n",
       "      <th>Global_Sales</th>\n",
       "    </tr>\n",
       "  </thead>\n",
       "  <tbody>\n",
       "    <tr>\n",
       "      <th>16593</th>\n",
       "      <td>16596</td>\n",
       "      <td>Woody Woodpecker in Crazy Castle 5</td>\n",
       "      <td>GBA</td>\n",
       "      <td>2002.0</td>\n",
       "      <td>Platform</td>\n",
       "      <td>Kemco</td>\n",
       "      <td>0.01</td>\n",
       "      <td>0.00</td>\n",
       "      <td>0.0</td>\n",
       "      <td>0.0</td>\n",
       "      <td>0.01</td>\n",
       "    </tr>\n",
       "    <tr>\n",
       "      <th>16594</th>\n",
       "      <td>16597</td>\n",
       "      <td>Men in Black II: Alien Escape</td>\n",
       "      <td>GC</td>\n",
       "      <td>2003.0</td>\n",
       "      <td>Shooter</td>\n",
       "      <td>Infogrames</td>\n",
       "      <td>0.01</td>\n",
       "      <td>0.00</td>\n",
       "      <td>0.0</td>\n",
       "      <td>0.0</td>\n",
       "      <td>0.01</td>\n",
       "    </tr>\n",
       "    <tr>\n",
       "      <th>16595</th>\n",
       "      <td>16598</td>\n",
       "      <td>SCORE International Baja 1000: The Official Game</td>\n",
       "      <td>PS2</td>\n",
       "      <td>2008.0</td>\n",
       "      <td>Racing</td>\n",
       "      <td>Activision</td>\n",
       "      <td>0.00</td>\n",
       "      <td>0.00</td>\n",
       "      <td>0.0</td>\n",
       "      <td>0.0</td>\n",
       "      <td>0.01</td>\n",
       "    </tr>\n",
       "    <tr>\n",
       "      <th>16596</th>\n",
       "      <td>16599</td>\n",
       "      <td>Know How 2</td>\n",
       "      <td>DS</td>\n",
       "      <td>2010.0</td>\n",
       "      <td>Puzzle</td>\n",
       "      <td>7G//AMES</td>\n",
       "      <td>0.00</td>\n",
       "      <td>0.01</td>\n",
       "      <td>0.0</td>\n",
       "      <td>0.0</td>\n",
       "      <td>0.01</td>\n",
       "    </tr>\n",
       "    <tr>\n",
       "      <th>16597</th>\n",
       "      <td>16600</td>\n",
       "      <td>Spirits &amp; Spells</td>\n",
       "      <td>GBA</td>\n",
       "      <td>2003.0</td>\n",
       "      <td>Platform</td>\n",
       "      <td>Wanadoo</td>\n",
       "      <td>0.01</td>\n",
       "      <td>0.00</td>\n",
       "      <td>0.0</td>\n",
       "      <td>0.0</td>\n",
       "      <td>0.01</td>\n",
       "    </tr>\n",
       "  </tbody>\n",
       "</table>\n",
       "</div>"
      ],
      "text/plain": [
       "        Rank                                              Name Platform  \\\n",
       "16593  16596                Woody Woodpecker in Crazy Castle 5      GBA   \n",
       "16594  16597                     Men in Black II: Alien Escape       GC   \n",
       "16595  16598  SCORE International Baja 1000: The Official Game      PS2   \n",
       "16596  16599                                        Know How 2       DS   \n",
       "16597  16600                                  Spirits & Spells      GBA   \n",
       "\n",
       "         Year     Genre   Publisher  NA_Sales  EU_Sales  JP_Sales  \\\n",
       "16593  2002.0  Platform       Kemco      0.01      0.00       0.0   \n",
       "16594  2003.0   Shooter  Infogrames      0.01      0.00       0.0   \n",
       "16595  2008.0    Racing  Activision      0.00      0.00       0.0   \n",
       "16596  2010.0    Puzzle    7G//AMES      0.00      0.01       0.0   \n",
       "16597  2003.0  Platform     Wanadoo      0.01      0.00       0.0   \n",
       "\n",
       "       Other_Sales  Global_Sales  \n",
       "16593          0.0          0.01  \n",
       "16594          0.0          0.01  \n",
       "16595          0.0          0.01  \n",
       "16596          0.0          0.01  \n",
       "16597          0.0          0.01  "
      ]
     },
     "execution_count": 5,
     "metadata": {},
     "output_type": "execute_result"
    }
   ],
   "source": [
    "df.tail()"
   ]
  },
  {
   "cell_type": "markdown",
   "id": "d0791de3-72b3-47e1-b6ab-d1555cc67e38",
   "metadata": {},
   "source": [
    "Уникальные значения некоторых столбцов:"
   ]
  },
  {
   "cell_type": "code",
   "execution_count": 6,
   "id": "2994abbc-b1c1-412d-b563-34f06d2a60e9",
   "metadata": {},
   "outputs": [
    {
     "data": {
      "text/plain": [
       "array(['Wii', 'NES', 'GB', 'DS', 'X360', 'PS3', 'PS2', 'SNES', 'GBA',\n",
       "       '3DS', 'PS4', 'N64', 'PS', 'XB', 'PC', '2600', 'PSP', 'XOne', 'GC',\n",
       "       'WiiU', 'GEN', 'DC', 'PSV', 'SAT', 'SCD', 'WS', 'NG', 'TG16',\n",
       "       '3DO', 'GG', 'PCFX'], dtype=object)"
      ]
     },
     "execution_count": 6,
     "metadata": {},
     "output_type": "execute_result"
    }
   ],
   "source": [
    "df.Platform.unique()"
   ]
  },
  {
   "cell_type": "code",
   "execution_count": 7,
   "id": "e7d71117-53e5-43fb-a852-21c7bd0433a0",
   "metadata": {},
   "outputs": [
    {
     "data": {
      "text/plain": [
       "array([2006., 1985., 2008., 2009., 1996., 1989., 1984., 2005., 1999.,\n",
       "       2007., 2010., 2013., 2004., 1990., 1988., 2002., 2001., 2011.,\n",
       "       1998., 2015., 2012., 2014., 1992., 1997., 1993., 1994., 1982.,\n",
       "       2003., 1986., 2000.,   nan, 1995., 2016., 1991., 1981., 1987.,\n",
       "       1980., 1983., 2020., 2017.])"
      ]
     },
     "execution_count": 7,
     "metadata": {},
     "output_type": "execute_result"
    }
   ],
   "source": [
    "df.Year.unique()"
   ]
  },
  {
   "cell_type": "code",
   "execution_count": 8,
   "id": "7832e134-d279-4ba0-87d5-2117979ce081",
   "metadata": {},
   "outputs": [
    {
     "data": {
      "text/plain": [
       "array(['Sports', 'Platform', 'Racing', 'Role-Playing', 'Puzzle', 'Misc',\n",
       "       'Shooter', 'Simulation', 'Action', 'Fighting', 'Adventure',\n",
       "       'Strategy'], dtype=object)"
      ]
     },
     "execution_count": 8,
     "metadata": {},
     "output_type": "execute_result"
    }
   ],
   "source": [
    "df.Genre.unique()"
   ]
  },
  {
   "cell_type": "code",
   "execution_count": 9,
   "id": "54e66abe-9c67-4f7b-82c5-2e847558b816",
   "metadata": {},
   "outputs": [
    {
     "data": {
      "text/plain": [
       "<Axes: >"
      ]
     },
     "execution_count": 9,
     "metadata": {},
     "output_type": "execute_result"
    },
    {
     "data": {
      "image/png": "[encoded data removed]",
      "text/plain": [
       "<Figure size 640x480 with 1 Axes>"
      ]
     },
     "metadata": {},
     "output_type": "display_data"
    }
   ],
   "source": [
    "df.Global_Sales.plot()"
   ]
  },
  {
   "cell_type": "code",
   "execution_count": 10,
   "id": "41d76bb4-cca6-4de1-99df-cd282fe58256",
   "metadata": {},
   "outputs": [
    {
     "data": {
      "text/html": [
       "<div>\n",
       "<style scoped>\n",
       "    .dataframe tbody tr th:only-of-type {\n",
       "        vertical-align: middle;\n",
       "    }\n",
       "\n",
       "    .dataframe tbody tr th {\n",
       "        vertical-align: top;\n",
       "    }\n",
       "\n",
       "    .dataframe thead th {\n",
       "        text-align: right;\n",
       "    }\n",
       "</style>\n",
       "<table border=\"1\" class=\"dataframe\">\n",
       "  <thead>\n",
       "    <tr style=\"text-align: right;\">\n",
       "      <th></th>\n",
       "      <th>Rank</th>\n",
       "      <th>Name</th>\n",
       "      <th>Platform</th>\n",
       "      <th>Year</th>\n",
       "      <th>Genre</th>\n",
       "      <th>Publisher</th>\n",
       "      <th>NA_Sales</th>\n",
       "      <th>EU_Sales</th>\n",
       "      <th>JP_Sales</th>\n",
       "      <th>Other_Sales</th>\n",
       "      <th>Global_Sales</th>\n",
       "    </tr>\n",
       "  </thead>\n",
       "  <tbody>\n",
       "    <tr>\n",
       "      <th>0</th>\n",
       "      <td>1</td>\n",
       "      <td>Wii Sports</td>\n",
       "      <td>Wii</td>\n",
       "      <td>2006.0</td>\n",
       "      <td>Sports</td>\n",
       "      <td>Nintendo</td>\n",
       "      <td>41.49</td>\n",
       "      <td>29.02</td>\n",
       "      <td>3.77</td>\n",
       "      <td>8.46</td>\n",
       "      <td>82.74</td>\n",
       "    </tr>\n",
       "  </tbody>\n",
       "</table>\n",
       "</div>"
      ],
      "text/plain": [
       "   Rank        Name Platform    Year   Genre Publisher  NA_Sales  EU_Sales  \\\n",
       "0     1  Wii Sports      Wii  2006.0  Sports  Nintendo     41.49     29.02   \n",
       "\n",
       "   JP_Sales  Other_Sales  Global_Sales  \n",
       "0      3.77         8.46         82.74  "
      ]
     },
     "execution_count": 10,
     "metadata": {},
     "output_type": "execute_result"
    }
   ],
   "source": [
    "df[df.Global_Sales > 80]"
   ]
  },
  {
   "cell_type": "markdown",
   "id": "1d01fa37-8077-4d68-aa8f-7a7cf3ab1fab",
   "metadata": {},
   "source": [
    "Существует всего одна игра из датасета, продажи которой выше 80 единиц. Она находится на первом месте"
   ]
  },
  {
   "cell_type": "code",
   "execution_count": 11,
   "id": "4fede830-1a66-40bf-be78-f72e2be231b7",
   "metadata": {},
   "outputs": [
    {
     "data": {
      "text/html": [
       "<div>\n",
       "<style scoped>\n",
       "    .dataframe tbody tr th:only-of-type {\n",
       "        vertical-align: middle;\n",
       "    }\n",
       "\n",
       "    .dataframe tbody tr th {\n",
       "        vertical-align: top;\n",
       "    }\n",
       "\n",
       "    .dataframe thead th {\n",
       "        text-align: right;\n",
       "    }\n",
       "</style>\n",
       "<table border=\"1\" class=\"dataframe\">\n",
       "  <thead>\n",
       "    <tr style=\"text-align: right;\">\n",
       "      <th></th>\n",
       "      <th>Rank</th>\n",
       "      <th>Name</th>\n",
       "      <th>Platform</th>\n",
       "      <th>Year</th>\n",
       "      <th>Genre</th>\n",
       "      <th>Publisher</th>\n",
       "      <th>NA_Sales</th>\n",
       "      <th>EU_Sales</th>\n",
       "      <th>JP_Sales</th>\n",
       "      <th>Other_Sales</th>\n",
       "      <th>Global_Sales</th>\n",
       "    </tr>\n",
       "  </thead>\n",
       "  <tbody>\n",
       "    <tr>\n",
       "      <th>2081</th>\n",
       "      <td>2083</td>\n",
       "      <td>Dead Space 3</td>\n",
       "      <td>X360</td>\n",
       "      <td>2013.0</td>\n",
       "      <td>Action</td>\n",
       "      <td>Electronic Arts</td>\n",
       "      <td>0.64</td>\n",
       "      <td>0.28</td>\n",
       "      <td>0.00</td>\n",
       "      <td>0.08</td>\n",
       "      <td>0.99</td>\n",
       "    </tr>\n",
       "    <tr>\n",
       "      <th>2082</th>\n",
       "      <td>2084</td>\n",
       "      <td>Phoenix Wright: Ace Attorney</td>\n",
       "      <td>DS</td>\n",
       "      <td>2005.0</td>\n",
       "      <td>Adventure</td>\n",
       "      <td>Capcom</td>\n",
       "      <td>0.49</td>\n",
       "      <td>0.07</td>\n",
       "      <td>0.39</td>\n",
       "      <td>0.05</td>\n",
       "      <td>0.99</td>\n",
       "    </tr>\n",
       "    <tr>\n",
       "      <th>2083</th>\n",
       "      <td>2085</td>\n",
       "      <td>NFL Fever 2002</td>\n",
       "      <td>XB</td>\n",
       "      <td>2000.0</td>\n",
       "      <td>Sports</td>\n",
       "      <td>Microsoft Game Studios</td>\n",
       "      <td>0.74</td>\n",
       "      <td>0.21</td>\n",
       "      <td>0.00</td>\n",
       "      <td>0.04</td>\n",
       "      <td>0.99</td>\n",
       "    </tr>\n",
       "    <tr>\n",
       "      <th>2084</th>\n",
       "      <td>2086</td>\n",
       "      <td>The Simpsons: Hit &amp; Run</td>\n",
       "      <td>GC</td>\n",
       "      <td>2003.0</td>\n",
       "      <td>Racing</td>\n",
       "      <td>Vivendi Games</td>\n",
       "      <td>0.77</td>\n",
       "      <td>0.20</td>\n",
       "      <td>0.00</td>\n",
       "      <td>0.03</td>\n",
       "      <td>0.99</td>\n",
       "    </tr>\n",
       "    <tr>\n",
       "      <th>2085</th>\n",
       "      <td>2087</td>\n",
       "      <td>Littlest Pet Shop: Winter</td>\n",
       "      <td>DS</td>\n",
       "      <td>2008.0</td>\n",
       "      <td>Simulation</td>\n",
       "      <td>Electronic Arts</td>\n",
       "      <td>0.59</td>\n",
       "      <td>0.31</td>\n",
       "      <td>0.00</td>\n",
       "      <td>0.10</td>\n",
       "      <td>0.99</td>\n",
       "    </tr>\n",
       "  </tbody>\n",
       "</table>\n",
       "</div>"
      ],
      "text/plain": [
       "      Rank                          Name Platform    Year       Genre  \\\n",
       "2081  2083                  Dead Space 3     X360  2013.0      Action   \n",
       "2082  2084  Phoenix Wright: Ace Attorney       DS  2005.0   Adventure   \n",
       "2083  2085                NFL Fever 2002       XB  2000.0      Sports   \n",
       "2084  2086       The Simpsons: Hit & Run       GC  2003.0      Racing   \n",
       "2085  2087     Littlest Pet Shop: Winter       DS  2008.0  Simulation   \n",
       "\n",
       "                   Publisher  NA_Sales  EU_Sales  JP_Sales  Other_Sales  \\\n",
       "2081         Electronic Arts      0.64      0.28      0.00         0.08   \n",
       "2082                  Capcom      0.49      0.07      0.39         0.05   \n",
       "2083  Microsoft Game Studios      0.74      0.21      0.00         0.04   \n",
       "2084           Vivendi Games      0.77      0.20      0.00         0.03   \n",
       "2085         Electronic Arts      0.59      0.31      0.00         0.10   \n",
       "\n",
       "      Global_Sales  \n",
       "2081          0.99  \n",
       "2082          0.99  \n",
       "2083          0.99  \n",
       "2084          0.99  \n",
       "2085          0.99  "
      ]
     },
     "execution_count": 11,
     "metadata": {},
     "output_type": "execute_result"
    }
   ],
   "source": [
    "df[df.Global_Sales < 1].head()"
   ]
  },
  {
   "cell_type": "code",
   "execution_count": 12,
   "id": "0b96977a-d6cd-4b79-980b-4bacfa652cc7",
   "metadata": {},
   "outputs": [
    {
     "data": {
      "text/plain": [
       "14517"
      ]
     },
     "execution_count": 12,
     "metadata": {},
     "output_type": "execute_result"
    }
   ],
   "source": [
    "len(df[df.Global_Sales < 1])"
   ]
  },
  {
   "cell_type": "markdown",
   "id": "7a382d78-d036-4416-baa4-8f317fb54969",
   "metadata": {},
   "source": [
    "При этом у 14.5 тысяч игр продажи меньше единицы"
   ]
  },
  {
   "cell_type": "markdown",
   "id": "4dcac421-3615-402a-8b4a-2575758c2eb1",
   "metadata": {},
   "source": [
    "Анимация графика, отображающая количество игр разной категории продаж:"
   ]
  },
  {
   "cell_type": "code",
   "execution_count": 13,
   "id": "ea98e9cc-6508-41c7-b5df-3a2428a678dd",
   "metadata": {},
   "outputs": [
    {
     "name": "stdout",
     "output_type": "stream",
     "text": [
      "MoviePy - Building file global_sales.gif with imageio.\n"
     ]
    },
    {
     "name": "stderr",
     "output_type": "stream",
     "text": [
      "                                                                                                                        \r"
     ]
    }
   ],
   "source": [
    "def plot_chart(i):\n",
    "    df.Global_Sales.plot()\n",
    "    plt.ylim([0, i])\n",
    "\n",
    "for i in range(80, 0, -1):\n",
    "    fig = plt.figure()\n",
    "    plot_chart(i)\n",
    "    fig.savefig(f\"figures/{i}.png\")\n",
    "    plt.close()\n",
    "\n",
    "figures_lst = [f\"figures/{i}.png\" for i in range(80, 10, -1)]\n",
    "\n",
    "for i in range(10, 0, -1):\n",
    "    for k in range((11-i)*2):\n",
    "        figures_lst.append(f\"figures/{i}.png\")\n",
    "\n",
    "gif_name = 'global_sales.gif'\n",
    "fps = 0.01\n",
    "clip = mpy.ImageSequenceClip(figures_lst, fps=fps)\n",
    "clip.write_gif(f'{gif_name}', fps=fps)"
   ]
  },
  {
   "cell_type": "markdown",
   "id": "1a200d0c-36d5-45e1-b423-a5d50efb9a92",
   "metadata": {},
   "source": [
    "<img src=\"global_sales.gif\" width=\"420\" align=\"center\">"
   ]
  },
  {
   "cell_type": "raw",
   "id": "5ed89339-5f25-4e75-a403-d702946cbba3",
   "metadata": {},
   "source": [
    "Код Markdown: <img src=\"global_sales.gif\" width=\"420\" align=\"center\">"
   ]
  },
  {
   "cell_type": "markdown",
   "id": "952d7743-8ac1-48a1-a4cd-21496884ee10",
   "metadata": {},
   "source": [
    "Топ игр от издателя Nintendo по продажам:"
   ]
  },
  {
   "cell_type": "code",
   "execution_count": 14,
   "id": "0bc63740-fa15-43e4-870f-22eb1cba8ea1",
   "metadata": {},
   "outputs": [
    {
     "data": {
      "text/html": [
       "<div>\n",
       "<style scoped>\n",
       "    .dataframe tbody tr th:only-of-type {\n",
       "        vertical-align: middle;\n",
       "    }\n",
       "\n",
       "    .dataframe tbody tr th {\n",
       "        vertical-align: top;\n",
       "    }\n",
       "\n",
       "    .dataframe thead th {\n",
       "        text-align: right;\n",
       "    }\n",
       "</style>\n",
       "<table border=\"1\" class=\"dataframe\">\n",
       "  <thead>\n",
       "    <tr style=\"text-align: right;\">\n",
       "      <th></th>\n",
       "      <th>Rank</th>\n",
       "      <th>Name</th>\n",
       "      <th>Platform</th>\n",
       "      <th>Year</th>\n",
       "      <th>Genre</th>\n",
       "      <th>Publisher</th>\n",
       "      <th>NA_Sales</th>\n",
       "      <th>EU_Sales</th>\n",
       "      <th>JP_Sales</th>\n",
       "      <th>Other_Sales</th>\n",
       "      <th>Global_Sales</th>\n",
       "    </tr>\n",
       "  </thead>\n",
       "  <tbody>\n",
       "    <tr>\n",
       "      <th>0</th>\n",
       "      <td>1</td>\n",
       "      <td>Wii Sports</td>\n",
       "      <td>Wii</td>\n",
       "      <td>2006.0</td>\n",
       "      <td>Sports</td>\n",
       "      <td>Nintendo</td>\n",
       "      <td>41.49</td>\n",
       "      <td>29.02</td>\n",
       "      <td>3.77</td>\n",
       "      <td>8.46</td>\n",
       "      <td>82.74</td>\n",
       "    </tr>\n",
       "    <tr>\n",
       "      <th>1</th>\n",
       "      <td>2</td>\n",
       "      <td>Super Mario Bros.</td>\n",
       "      <td>NES</td>\n",
       "      <td>1985.0</td>\n",
       "      <td>Platform</td>\n",
       "      <td>Nintendo</td>\n",
       "      <td>29.08</td>\n",
       "      <td>3.58</td>\n",
       "      <td>6.81</td>\n",
       "      <td>0.77</td>\n",
       "      <td>40.24</td>\n",
       "    </tr>\n",
       "    <tr>\n",
       "      <th>2</th>\n",
       "      <td>3</td>\n",
       "      <td>Mario Kart Wii</td>\n",
       "      <td>Wii</td>\n",
       "      <td>2008.0</td>\n",
       "      <td>Racing</td>\n",
       "      <td>Nintendo</td>\n",
       "      <td>15.85</td>\n",
       "      <td>12.88</td>\n",
       "      <td>3.79</td>\n",
       "      <td>3.31</td>\n",
       "      <td>35.82</td>\n",
       "    </tr>\n",
       "    <tr>\n",
       "      <th>3</th>\n",
       "      <td>4</td>\n",
       "      <td>Wii Sports Resort</td>\n",
       "      <td>Wii</td>\n",
       "      <td>2009.0</td>\n",
       "      <td>Sports</td>\n",
       "      <td>Nintendo</td>\n",
       "      <td>15.75</td>\n",
       "      <td>11.01</td>\n",
       "      <td>3.28</td>\n",
       "      <td>2.96</td>\n",
       "      <td>33.00</td>\n",
       "    </tr>\n",
       "    <tr>\n",
       "      <th>4</th>\n",
       "      <td>5</td>\n",
       "      <td>Pokemon Red/Pokemon Blue</td>\n",
       "      <td>GB</td>\n",
       "      <td>1996.0</td>\n",
       "      <td>Role-Playing</td>\n",
       "      <td>Nintendo</td>\n",
       "      <td>11.27</td>\n",
       "      <td>8.89</td>\n",
       "      <td>10.22</td>\n",
       "      <td>1.00</td>\n",
       "      <td>31.37</td>\n",
       "    </tr>\n",
       "  </tbody>\n",
       "</table>\n",
       "</div>"
      ],
      "text/plain": [
       "   Rank                      Name Platform    Year         Genre Publisher  \\\n",
       "0     1                Wii Sports      Wii  2006.0        Sports  Nintendo   \n",
       "1     2         Super Mario Bros.      NES  1985.0      Platform  Nintendo   \n",
       "2     3            Mario Kart Wii      Wii  2008.0        Racing  Nintendo   \n",
       "3     4         Wii Sports Resort      Wii  2009.0        Sports  Nintendo   \n",
       "4     5  Pokemon Red/Pokemon Blue       GB  1996.0  Role-Playing  Nintendo   \n",
       "\n",
       "   NA_Sales  EU_Sales  JP_Sales  Other_Sales  Global_Sales  \n",
       "0     41.49     29.02      3.77         8.46         82.74  \n",
       "1     29.08      3.58      6.81         0.77         40.24  \n",
       "2     15.85     12.88      3.79         3.31         35.82  \n",
       "3     15.75     11.01      3.28         2.96         33.00  \n",
       "4     11.27      8.89     10.22         1.00         31.37  "
      ]
     },
     "execution_count": 14,
     "metadata": {},
     "output_type": "execute_result"
    }
   ],
   "source": [
    "df[df.Publisher == \"Nintendo\"].sort_values(by=[\"Global_Sales\"], ascending=False).head()"
   ]
  },
  {
   "cell_type": "markdown",
   "id": "2dd6ea54-197d-4b47-af7e-91bdc38ae23b",
   "metadata": {},
   "source": [
    "Топ игр от издателя Electronic Arts по продажам:"
   ]
  },
  {
   "cell_type": "code",
   "execution_count": 15,
   "id": "ce0e5aa2-1c46-4d25-9487-449e817b0dc2",
   "metadata": {},
   "outputs": [
    {
     "data": {
      "text/html": [
       "<div>\n",
       "<style scoped>\n",
       "    .dataframe tbody tr th:only-of-type {\n",
       "        vertical-align: middle;\n",
       "    }\n",
       "\n",
       "    .dataframe tbody tr th {\n",
       "        vertical-align: top;\n",
       "    }\n",
       "\n",
       "    .dataframe thead th {\n",
       "        text-align: right;\n",
       "    }\n",
       "</style>\n",
       "<table border=\"1\" class=\"dataframe\">\n",
       "  <thead>\n",
       "    <tr style=\"text-align: right;\">\n",
       "      <th></th>\n",
       "      <th>Rank</th>\n",
       "      <th>Name</th>\n",
       "      <th>Platform</th>\n",
       "      <th>Year</th>\n",
       "      <th>Genre</th>\n",
       "      <th>Publisher</th>\n",
       "      <th>NA_Sales</th>\n",
       "      <th>EU_Sales</th>\n",
       "      <th>JP_Sales</th>\n",
       "      <th>Other_Sales</th>\n",
       "      <th>Global_Sales</th>\n",
       "    </tr>\n",
       "  </thead>\n",
       "  <tbody>\n",
       "    <tr>\n",
       "      <th>77</th>\n",
       "      <td>78</td>\n",
       "      <td>FIFA 16</td>\n",
       "      <td>PS4</td>\n",
       "      <td>2015.0</td>\n",
       "      <td>Sports</td>\n",
       "      <td>Electronic Arts</td>\n",
       "      <td>1.11</td>\n",
       "      <td>6.06</td>\n",
       "      <td>0.06</td>\n",
       "      <td>1.26</td>\n",
       "      <td>8.49</td>\n",
       "    </tr>\n",
       "    <tr>\n",
       "      <th>82</th>\n",
       "      <td>83</td>\n",
       "      <td>FIFA Soccer 13</td>\n",
       "      <td>PS3</td>\n",
       "      <td>2012.0</td>\n",
       "      <td>Action</td>\n",
       "      <td>Electronic Arts</td>\n",
       "      <td>1.06</td>\n",
       "      <td>5.05</td>\n",
       "      <td>0.13</td>\n",
       "      <td>2.01</td>\n",
       "      <td>8.24</td>\n",
       "    </tr>\n",
       "    <tr>\n",
       "      <th>83</th>\n",
       "      <td>84</td>\n",
       "      <td>The Sims 3</td>\n",
       "      <td>PC</td>\n",
       "      <td>2009.0</td>\n",
       "      <td>Simulation</td>\n",
       "      <td>Electronic Arts</td>\n",
       "      <td>0.98</td>\n",
       "      <td>6.42</td>\n",
       "      <td>0.00</td>\n",
       "      <td>0.71</td>\n",
       "      <td>8.11</td>\n",
       "    </tr>\n",
       "    <tr>\n",
       "      <th>92</th>\n",
       "      <td>93</td>\n",
       "      <td>Star Wars Battlefront (2015)</td>\n",
       "      <td>PS4</td>\n",
       "      <td>2015.0</td>\n",
       "      <td>Shooter</td>\n",
       "      <td>Electronic Arts</td>\n",
       "      <td>2.93</td>\n",
       "      <td>3.29</td>\n",
       "      <td>0.22</td>\n",
       "      <td>1.23</td>\n",
       "      <td>7.67</td>\n",
       "    </tr>\n",
       "    <tr>\n",
       "      <th>99</th>\n",
       "      <td>100</td>\n",
       "      <td>Battlefield 3</td>\n",
       "      <td>X360</td>\n",
       "      <td>2011.0</td>\n",
       "      <td>Shooter</td>\n",
       "      <td>Electronic Arts</td>\n",
       "      <td>4.46</td>\n",
       "      <td>2.13</td>\n",
       "      <td>0.06</td>\n",
       "      <td>0.69</td>\n",
       "      <td>7.34</td>\n",
       "    </tr>\n",
       "  </tbody>\n",
       "</table>\n",
       "</div>"
      ],
      "text/plain": [
       "    Rank                          Name Platform    Year       Genre  \\\n",
       "77    78                       FIFA 16      PS4  2015.0      Sports   \n",
       "82    83                FIFA Soccer 13      PS3  2012.0      Action   \n",
       "83    84                    The Sims 3       PC  2009.0  Simulation   \n",
       "92    93  Star Wars Battlefront (2015)      PS4  2015.0     Shooter   \n",
       "99   100                 Battlefield 3     X360  2011.0     Shooter   \n",
       "\n",
       "          Publisher  NA_Sales  EU_Sales  JP_Sales  Other_Sales  Global_Sales  \n",
       "77  Electronic Arts      1.11      6.06      0.06         1.26          8.49  \n",
       "82  Electronic Arts      1.06      5.05      0.13         2.01          8.24  \n",
       "83  Electronic Arts      0.98      6.42      0.00         0.71          8.11  \n",
       "92  Electronic Arts      2.93      3.29      0.22         1.23          7.67  \n",
       "99  Electronic Arts      4.46      2.13      0.06         0.69          7.34  "
      ]
     },
     "execution_count": 15,
     "metadata": {},
     "output_type": "execute_result"
    }
   ],
   "source": [
    "df[df.Publisher == \"Electronic Arts\"].sort_values(by=[\"Global_Sales\"], ascending=False).head()"
   ]
  },
  {
   "cell_type": "markdown",
   "id": "84e665a1-43e8-480c-8f9f-9a73875ffbcb",
   "metadata": {},
   "source": [
    "Глобальные продажи по годам:"
   ]
  },
  {
   "cell_type": "code",
   "execution_count": 16,
   "id": "ef49510d-2682-44a5-a3ff-4fb89a0ec9f6",
   "metadata": {},
   "outputs": [
    {
     "name": "stdout",
     "output_type": "stream",
     "text": [
      "1980.0\n",
      "2020.0\n"
     ]
    }
   ],
   "source": [
    "print(df.Year.dropna().unique().min())\n",
    "print(df.Year.dropna().unique().max())"
   ]
  },
  {
   "cell_type": "code",
   "execution_count": 17,
   "id": "7178deb4-1794-485f-8ea1-065746152ead",
   "metadata": {},
   "outputs": [
    {
     "data": {
      "text/html": [
       "<div>\n",
       "<style scoped>\n",
       "    .dataframe tbody tr th:only-of-type {\n",
       "        vertical-align: middle;\n",
       "    }\n",
       "\n",
       "    .dataframe tbody tr th {\n",
       "        vertical-align: top;\n",
       "    }\n",
       "\n",
       "    .dataframe thead th {\n",
       "        text-align: right;\n",
       "    }\n",
       "</style>\n",
       "<table border=\"1\" class=\"dataframe\">\n",
       "  <thead>\n",
       "    <tr style=\"text-align: right;\">\n",
       "      <th></th>\n",
       "      <th>Rank</th>\n",
       "      <th>Name</th>\n",
       "      <th>Platform</th>\n",
       "      <th>Year</th>\n",
       "      <th>Genre</th>\n",
       "      <th>Publisher</th>\n",
       "      <th>NA_Sales</th>\n",
       "      <th>EU_Sales</th>\n",
       "      <th>JP_Sales</th>\n",
       "      <th>Other_Sales</th>\n",
       "      <th>Global_Sales</th>\n",
       "    </tr>\n",
       "  </thead>\n",
       "  <tbody>\n",
       "    <tr>\n",
       "      <th>5957</th>\n",
       "      <td>5959</td>\n",
       "      <td>Imagine: Makeup Artist</td>\n",
       "      <td>DS</td>\n",
       "      <td>2020.0</td>\n",
       "      <td>Simulation</td>\n",
       "      <td>Ubisoft</td>\n",
       "      <td>0.27</td>\n",
       "      <td>0.0</td>\n",
       "      <td>0.0</td>\n",
       "      <td>0.02</td>\n",
       "      <td>0.29</td>\n",
       "    </tr>\n",
       "  </tbody>\n",
       "</table>\n",
       "</div>"
      ],
      "text/plain": [
       "      Rank                    Name Platform    Year       Genre Publisher  \\\n",
       "5957  5959  Imagine: Makeup Artist       DS  2020.0  Simulation   Ubisoft   \n",
       "\n",
       "      NA_Sales  EU_Sales  JP_Sales  Other_Sales  Global_Sales  \n",
       "5957      0.27       0.0       0.0         0.02          0.29  "
      ]
     },
     "execution_count": 17,
     "metadata": {},
     "output_type": "execute_result"
    }
   ],
   "source": [
    "df[df.Year > 2017]"
   ]
  },
  {
   "cell_type": "code",
   "execution_count": 18,
   "id": "61d96b8b-99b8-4c42-abf2-c089580758be",
   "metadata": {},
   "outputs": [
    {
     "name": "stdout",
     "output_type": "stream",
     "text": [
      "Global_Sales:\n",
      "1980: 4.31\n",
      "1981: 4.5\n",
      "1982: 7.81\n",
      "1983: 3.2\n",
      "1984: 28.31\n",
      "1985: 40.24\n",
      "1986: 6.51\n",
      "1987: 4.38\n",
      "1988: 17.28\n",
      "1989: 30.26\n",
      "1990: 20.61\n",
      "1991: 4.61\n",
      "1992: 11.18\n",
      "1993: 10.55\n",
      "1994: 9.3\n",
      "1995: 5.15\n",
      "1996: 31.37\n",
      "1997: 10.95\n",
      "1998: 14.64\n",
      "1999: 23.1\n",
      "2000: 6.39\n",
      "2001: 14.98\n",
      "2002: 16.15\n",
      "2003: 7.2\n",
      "2004: 20.81\n",
      "2005: 24.76\n",
      "2006: 82.74\n",
      "2007: 22.72\n",
      "2008: 35.82\n",
      "2009: 33.0\n",
      "2010: 21.82\n",
      "2011: 14.76\n",
      "2012: 14.03\n",
      "2013: 21.4\n",
      "2014: 11.98\n",
      "2015: 14.24\n",
      "2016: 4.77\n",
      "2017: 0.03\n",
      "2020: 0.29\n"
     ]
    }
   ],
   "source": [
    "years_sales = dict()\n",
    "print(\"Global_Sales:\")\n",
    "for year in list(range(1980, 2018)) + [2020]:\n",
    "    years_sales[year] = df[df.Year == year].iloc[0].Global_Sales\n",
    "    \n",
    "    print(f\"{year}:\", df[df.Year == year].iloc[0].Global_Sales)"
   ]
  },
  {
   "cell_type": "markdown",
   "id": "87959a18-d836-4427-9147-8fd09c6fccaa",
   "metadata": {},
   "source": [
    "С отсортированными значения продаж:"
   ]
  },
  {
   "cell_type": "code",
   "execution_count": 19,
   "id": "3c7fb04b-091d-46d4-8399-32282aa97f09",
   "metadata": {},
   "outputs": [
    {
     "data": {
      "text/html": [
       "<div>\n",
       "<style scoped>\n",
       "    .dataframe tbody tr th:only-of-type {\n",
       "        vertical-align: middle;\n",
       "    }\n",
       "\n",
       "    .dataframe tbody tr th {\n",
       "        vertical-align: top;\n",
       "    }\n",
       "\n",
       "    .dataframe thead th {\n",
       "        text-align: right;\n",
       "    }\n",
       "</style>\n",
       "<table border=\"1\" class=\"dataframe\">\n",
       "  <thead>\n",
       "    <tr style=\"text-align: right;\">\n",
       "      <th></th>\n",
       "      <th>Global_Sales</th>\n",
       "    </tr>\n",
       "  </thead>\n",
       "  <tbody>\n",
       "    <tr>\n",
       "      <th>2006</th>\n",
       "      <td>82.74</td>\n",
       "    </tr>\n",
       "    <tr>\n",
       "      <th>1985</th>\n",
       "      <td>40.24</td>\n",
       "    </tr>\n",
       "    <tr>\n",
       "      <th>2008</th>\n",
       "      <td>35.82</td>\n",
       "    </tr>\n",
       "    <tr>\n",
       "      <th>2009</th>\n",
       "      <td>33.00</td>\n",
       "    </tr>\n",
       "    <tr>\n",
       "      <th>1996</th>\n",
       "      <td>31.37</td>\n",
       "    </tr>\n",
       "    <tr>\n",
       "      <th>1989</th>\n",
       "      <td>30.26</td>\n",
       "    </tr>\n",
       "    <tr>\n",
       "      <th>1984</th>\n",
       "      <td>28.31</td>\n",
       "    </tr>\n",
       "    <tr>\n",
       "      <th>2005</th>\n",
       "      <td>24.76</td>\n",
       "    </tr>\n",
       "    <tr>\n",
       "      <th>1999</th>\n",
       "      <td>23.10</td>\n",
       "    </tr>\n",
       "    <tr>\n",
       "      <th>2007</th>\n",
       "      <td>22.72</td>\n",
       "    </tr>\n",
       "    <tr>\n",
       "      <th>2010</th>\n",
       "      <td>21.82</td>\n",
       "    </tr>\n",
       "    <tr>\n",
       "      <th>2013</th>\n",
       "      <td>21.40</td>\n",
       "    </tr>\n",
       "    <tr>\n",
       "      <th>2004</th>\n",
       "      <td>20.81</td>\n",
       "    </tr>\n",
       "    <tr>\n",
       "      <th>1990</th>\n",
       "      <td>20.61</td>\n",
       "    </tr>\n",
       "    <tr>\n",
       "      <th>1988</th>\n",
       "      <td>17.28</td>\n",
       "    </tr>\n",
       "    <tr>\n",
       "      <th>2002</th>\n",
       "      <td>16.15</td>\n",
       "    </tr>\n",
       "    <tr>\n",
       "      <th>2001</th>\n",
       "      <td>14.98</td>\n",
       "    </tr>\n",
       "    <tr>\n",
       "      <th>2011</th>\n",
       "      <td>14.76</td>\n",
       "    </tr>\n",
       "    <tr>\n",
       "      <th>1998</th>\n",
       "      <td>14.64</td>\n",
       "    </tr>\n",
       "    <tr>\n",
       "      <th>2015</th>\n",
       "      <td>14.24</td>\n",
       "    </tr>\n",
       "    <tr>\n",
       "      <th>2012</th>\n",
       "      <td>14.03</td>\n",
       "    </tr>\n",
       "    <tr>\n",
       "      <th>2014</th>\n",
       "      <td>11.98</td>\n",
       "    </tr>\n",
       "    <tr>\n",
       "      <th>1992</th>\n",
       "      <td>11.18</td>\n",
       "    </tr>\n",
       "    <tr>\n",
       "      <th>1997</th>\n",
       "      <td>10.95</td>\n",
       "    </tr>\n",
       "    <tr>\n",
       "      <th>1993</th>\n",
       "      <td>10.55</td>\n",
       "    </tr>\n",
       "    <tr>\n",
       "      <th>1994</th>\n",
       "      <td>9.30</td>\n",
       "    </tr>\n",
       "    <tr>\n",
       "      <th>1982</th>\n",
       "      <td>7.81</td>\n",
       "    </tr>\n",
       "    <tr>\n",
       "      <th>2003</th>\n",
       "      <td>7.20</td>\n",
       "    </tr>\n",
       "    <tr>\n",
       "      <th>1986</th>\n",
       "      <td>6.51</td>\n",
       "    </tr>\n",
       "    <tr>\n",
       "      <th>2000</th>\n",
       "      <td>6.39</td>\n",
       "    </tr>\n",
       "    <tr>\n",
       "      <th>1995</th>\n",
       "      <td>5.15</td>\n",
       "    </tr>\n",
       "    <tr>\n",
       "      <th>2016</th>\n",
       "      <td>4.77</td>\n",
       "    </tr>\n",
       "    <tr>\n",
       "      <th>1991</th>\n",
       "      <td>4.61</td>\n",
       "    </tr>\n",
       "    <tr>\n",
       "      <th>1981</th>\n",
       "      <td>4.50</td>\n",
       "    </tr>\n",
       "    <tr>\n",
       "      <th>1987</th>\n",
       "      <td>4.38</td>\n",
       "    </tr>\n",
       "    <tr>\n",
       "      <th>1980</th>\n",
       "      <td>4.31</td>\n",
       "    </tr>\n",
       "    <tr>\n",
       "      <th>1983</th>\n",
       "      <td>3.20</td>\n",
       "    </tr>\n",
       "    <tr>\n",
       "      <th>2020</th>\n",
       "      <td>0.29</td>\n",
       "    </tr>\n",
       "    <tr>\n",
       "      <th>2017</th>\n",
       "      <td>0.03</td>\n",
       "    </tr>\n",
       "  </tbody>\n",
       "</table>\n",
       "</div>"
      ],
      "text/plain": [
       "      Global_Sales\n",
       "2006         82.74\n",
       "1985         40.24\n",
       "2008         35.82\n",
       "2009         33.00\n",
       "1996         31.37\n",
       "1989         30.26\n",
       "1984         28.31\n",
       "2005         24.76\n",
       "1999         23.10\n",
       "2007         22.72\n",
       "2010         21.82\n",
       "2013         21.40\n",
       "2004         20.81\n",
       "1990         20.61\n",
       "1988         17.28\n",
       "2002         16.15\n",
       "2001         14.98\n",
       "2011         14.76\n",
       "1998         14.64\n",
       "2015         14.24\n",
       "2012         14.03\n",
       "2014         11.98\n",
       "1992         11.18\n",
       "1997         10.95\n",
       "1993         10.55\n",
       "1994          9.30\n",
       "1982          7.81\n",
       "2003          7.20\n",
       "1986          6.51\n",
       "2000          6.39\n",
       "1995          5.15\n",
       "2016          4.77\n",
       "1991          4.61\n",
       "1981          4.50\n",
       "1987          4.38\n",
       "1980          4.31\n",
       "1983          3.20\n",
       "2020          0.29\n",
       "2017          0.03"
      ]
     },
     "execution_count": 19,
     "metadata": {},
     "output_type": "execute_result"
    }
   ],
   "source": [
    "pd.DataFrame({k: v for k, v in sorted(years_sales.items(), key=lambda v: v[1], reverse=True)}, index=[\"Global_Sales\"]).T"
   ]
  },
  {
   "cell_type": "markdown",
   "id": "5dd020bb-3e31-4be6-82b8-11e1d7ff4df8",
   "metadata": {},
   "source": [
    "# Очистка данных"
   ]
  },
  {
   "cell_type": "code",
   "execution_count": 20,
   "id": "1aeebcb9-addb-4a5e-bf69-0f838a8b5b2a",
   "metadata": {},
   "outputs": [
    {
     "data": {
      "text/plain": [
       "Rank              0\n",
       "Name              0\n",
       "Platform          0\n",
       "Year            271\n",
       "Genre             0\n",
       "Publisher        58\n",
       "NA_Sales          0\n",
       "EU_Sales          0\n",
       "JP_Sales          0\n",
       "Other_Sales       0\n",
       "Global_Sales      0\n",
       "dtype: int64"
      ]
     },
     "execution_count": 20,
     "metadata": {},
     "output_type": "execute_result"
    }
   ],
   "source": [
    "df.isnull().sum()"
   ]
  },
  {
   "cell_type": "markdown",
   "id": "cf92b325-c39d-41ad-9656-badb0c417a28",
   "metadata": {},
   "source": [
    "Создам копию датасета, чтобы не повредить его:"
   ]
  },
  {
   "cell_type": "code",
   "execution_count": 21,
   "id": "7be2c626-7815-4041-8c67-3de09abd7bdc",
   "metadata": {},
   "outputs": [],
   "source": [
    "df_work = df.copy()"
   ]
  },
  {
   "cell_type": "markdown",
   "id": "e99cda5e-ca34-4412-8b20-285579bfc35f",
   "metadata": {},
   "source": [
    "Общий объём данных позволяет или удалить строки с недостающими данными, или заполнить эти значения медианой"
   ]
  },
  {
   "cell_type": "markdown",
   "id": "0a3137ab-417f-4cea-9da5-8fa77ba2b5db",
   "metadata": {},
   "source": [
    "В строках с na вместо года можно заменить недостающие значения медианой:"
   ]
  },
  {
   "cell_type": "code",
   "execution_count": 22,
   "id": "4e86a025-3330-47c4-b398-291f2a44434f",
   "metadata": {},
   "outputs": [],
   "source": [
    "df_work.Year.fillna(df.Year.median(), inplace=True)"
   ]
  },
  {
   "cell_type": "code",
   "execution_count": 23,
   "id": "079e1f03-31c3-44ed-a1f7-a46203f726ba",
   "metadata": {},
   "outputs": [],
   "source": [
    "df_work.dropna(inplace=True)"
   ]
  },
  {
   "cell_type": "code",
   "execution_count": 24,
   "id": "5da34f89-c192-4753-ab2c-a6dc387c6953",
   "metadata": {},
   "outputs": [
    {
     "data": {
      "text/plain": [
       "Rank            0\n",
       "Name            0\n",
       "Platform        0\n",
       "Year            0\n",
       "Genre           0\n",
       "Publisher       0\n",
       "NA_Sales        0\n",
       "EU_Sales        0\n",
       "JP_Sales        0\n",
       "Other_Sales     0\n",
       "Global_Sales    0\n",
       "dtype: int64"
      ]
     },
     "execution_count": 24,
     "metadata": {},
     "output_type": "execute_result"
    }
   ],
   "source": [
    "df_work.isnull().sum()"
   ]
  },
  {
   "cell_type": "markdown",
   "id": "cc252d43-bacf-4b77-898f-6a09f3aea42a",
   "metadata": {},
   "source": [
    "# Приведение в числовую форму"
   ]
  },
  {
   "cell_type": "markdown",
   "id": "1ad6a16f-d17e-401b-a250-5bc577e49627",
   "metadata": {},
   "source": [
    "Колонки \"Platform\", \"Genre\" и \"Publisher\" можно привести в числовую форму путём замены каждого уникального значения на число.  \n",
    "Я воспользуюсь порядковым кодированием, а именно, заменю все значения числом от 1 до количества уникальных значений в колонке"
   ]
  },
  {
   "cell_type": "code",
   "execution_count": 25,
   "id": "54547622-1c15-4e1c-a6ca-80d0b8e4eb76",
   "metadata": {},
   "outputs": [],
   "source": [
    "platform_values = list(df_work.Platform.unique())\n",
    "genre_values = list(df_work.Genre.unique())\n",
    "publisher_values = list(df_work.Publisher.unique())"
   ]
  },
  {
   "cell_type": "code",
   "execution_count": 26,
   "id": "3d78e50a-b53b-4dc3-8338-f8bc9cdc5151",
   "metadata": {},
   "outputs": [
    {
     "name": "stdout",
     "output_type": "stream",
     "text": [
      "31\n",
      "12\n",
      "578\n"
     ]
    }
   ],
   "source": [
    "print(len(platform_values))\n",
    "print(len(genre_values))\n",
    "print(len(publisher_values))"
   ]
  },
  {
   "cell_type": "code",
   "execution_count": 27,
   "id": "be7d9770-4fd3-4fc6-a276-bc1cae575e75",
   "metadata": {},
   "outputs": [],
   "source": [
    "platform_nums = list(range(1, len(platform_values) + 1))\n",
    "genre_nums = list(range(1, len(genre_values) + 1))\n",
    "publisher_nums = list(range(1, len(publisher_values) + 1))"
   ]
  },
  {
   "cell_type": "markdown",
   "id": "b420090f-306a-4aee-ab7c-40aaf3c7616a",
   "metadata": {},
   "source": [
    "Чтобы между столбцами не было ненужной зависимости, их нужно перемешать:"
   ]
  },
  {
   "cell_type": "code",
   "execution_count": 28,
   "id": "1615828c-09b7-45c0-a844-c5dbb8fcf424",
   "metadata": {},
   "outputs": [],
   "source": [
    "Random(0).shuffle(platform_nums)\n",
    "Random(0).shuffle(genre_nums)\n",
    "Random(0).shuffle(publisher_nums)"
   ]
  },
  {
   "cell_type": "code",
   "execution_count": 29,
   "id": "832039b3-6d83-4d41-b290-7b443d957315",
   "metadata": {},
   "outputs": [],
   "source": [
    "platform_dict = dict(zip(platform_values, platform_nums))\n",
    "genre_dict = dict(zip(genre_values, genre_nums))\n",
    "publisher_dict = dict(zip(publisher_values, publisher_nums))"
   ]
  },
  {
   "cell_type": "code",
   "execution_count": 30,
   "id": "110155fd-2846-47fc-9f07-a53f4630ac0c",
   "metadata": {},
   "outputs": [],
   "source": [
    "df_work['Platform'] = df_work['Platform'].map(platform_dict)\n",
    "df_work['Genre'] = df_work['Genre'].map(genre_dict)\n",
    "df_work['Publisher'] = df_work['Publisher'].map(publisher_dict)"
   ]
  },
  {
   "cell_type": "code",
   "execution_count": 31,
   "id": "f1c7e26e-9137-438f-ae9e-e24fcb4516fe",
   "metadata": {},
   "outputs": [
    {
     "data": {
      "text/html": [
       "<div>\n",
       "<style scoped>\n",
       "    .dataframe tbody tr th:only-of-type {\n",
       "        vertical-align: middle;\n",
       "    }\n",
       "\n",
       "    .dataframe tbody tr th {\n",
       "        vertical-align: top;\n",
       "    }\n",
       "\n",
       "    .dataframe thead th {\n",
       "        text-align: right;\n",
       "    }\n",
       "</style>\n",
       "<table border=\"1\" class=\"dataframe\">\n",
       "  <thead>\n",
       "    <tr style=\"text-align: right;\">\n",
       "      <th></th>\n",
       "      <th>Rank</th>\n",
       "      <th>Name</th>\n",
       "      <th>Platform</th>\n",
       "      <th>Year</th>\n",
       "      <th>Genre</th>\n",
       "      <th>Publisher</th>\n",
       "      <th>NA_Sales</th>\n",
       "      <th>EU_Sales</th>\n",
       "      <th>JP_Sales</th>\n",
       "      <th>Other_Sales</th>\n",
       "      <th>Global_Sales</th>\n",
       "    </tr>\n",
       "  </thead>\n",
       "  <tbody>\n",
       "    <tr>\n",
       "      <th>0</th>\n",
       "      <td>1</td>\n",
       "      <td>Wii Sports</td>\n",
       "      <td>4</td>\n",
       "      <td>2006.0</td>\n",
       "      <td>2</td>\n",
       "      <td>384</td>\n",
       "      <td>41.49</td>\n",
       "      <td>29.02</td>\n",
       "      <td>3.77</td>\n",
       "      <td>8.46</td>\n",
       "      <td>82.74</td>\n",
       "    </tr>\n",
       "    <tr>\n",
       "      <th>1</th>\n",
       "      <td>2</td>\n",
       "      <td>Super Mario Bros.</td>\n",
       "      <td>11</td>\n",
       "      <td>1985.0</td>\n",
       "      <td>10</td>\n",
       "      <td>384</td>\n",
       "      <td>29.08</td>\n",
       "      <td>3.58</td>\n",
       "      <td>6.81</td>\n",
       "      <td>0.77</td>\n",
       "      <td>40.24</td>\n",
       "    </tr>\n",
       "    <tr>\n",
       "      <th>2</th>\n",
       "      <td>3</td>\n",
       "      <td>Mario Kart Wii</td>\n",
       "      <td>4</td>\n",
       "      <td>2008.0</td>\n",
       "      <td>9</td>\n",
       "      <td>384</td>\n",
       "      <td>15.85</td>\n",
       "      <td>12.88</td>\n",
       "      <td>3.79</td>\n",
       "      <td>3.31</td>\n",
       "      <td>35.82</td>\n",
       "    </tr>\n",
       "    <tr>\n",
       "      <th>3</th>\n",
       "      <td>4</td>\n",
       "      <td>Wii Sports Resort</td>\n",
       "      <td>4</td>\n",
       "      <td>2009.0</td>\n",
       "      <td>2</td>\n",
       "      <td>384</td>\n",
       "      <td>15.75</td>\n",
       "      <td>11.01</td>\n",
       "      <td>3.28</td>\n",
       "      <td>2.96</td>\n",
       "      <td>33.00</td>\n",
       "    </tr>\n",
       "    <tr>\n",
       "      <th>4</th>\n",
       "      <td>5</td>\n",
       "      <td>Pokemon Red/Pokemon Blue</td>\n",
       "      <td>20</td>\n",
       "      <td>1996.0</td>\n",
       "      <td>6</td>\n",
       "      <td>384</td>\n",
       "      <td>11.27</td>\n",
       "      <td>8.89</td>\n",
       "      <td>10.22</td>\n",
       "      <td>1.00</td>\n",
       "      <td>31.37</td>\n",
       "    </tr>\n",
       "  </tbody>\n",
       "</table>\n",
       "</div>"
      ],
      "text/plain": [
       "   Rank                      Name  Platform    Year  Genre  Publisher  \\\n",
       "0     1                Wii Sports         4  2006.0      2        384   \n",
       "1     2         Super Mario Bros.        11  1985.0     10        384   \n",
       "2     3            Mario Kart Wii         4  2008.0      9        384   \n",
       "3     4         Wii Sports Resort         4  2009.0      2        384   \n",
       "4     5  Pokemon Red/Pokemon Blue        20  1996.0      6        384   \n",
       "\n",
       "   NA_Sales  EU_Sales  JP_Sales  Other_Sales  Global_Sales  \n",
       "0     41.49     29.02      3.77         8.46         82.74  \n",
       "1     29.08      3.58      6.81         0.77         40.24  \n",
       "2     15.85     12.88      3.79         3.31         35.82  \n",
       "3     15.75     11.01      3.28         2.96         33.00  \n",
       "4     11.27      8.89     10.22         1.00         31.37  "
      ]
     },
     "execution_count": 31,
     "metadata": {},
     "output_type": "execute_result"
    }
   ],
   "source": [
    "df_work.head()"
   ]
  },
  {
   "cell_type": "markdown",
   "id": "b26fc22b-c2d7-4e3a-bca9-df9a85771328",
   "metadata": {},
   "source": [
    "Столбец с названием игр можно смело удалить, так как все значения в нём уникальные, и зависимость с другими столбцами незначительна"
   ]
  },
  {
   "cell_type": "code",
   "execution_count": 32,
   "id": "24455d32-43bc-4928-a1fe-37bc6848e0a2",
   "metadata": {},
   "outputs": [],
   "source": [
    "df_work.drop([\"Name\"], axis=1, inplace=True)"
   ]
  },
  {
   "cell_type": "markdown",
   "id": "a10bc417-4956-4a4c-ab0c-6c03d0724810",
   "metadata": {},
   "source": [
    "Итоговый датасет:"
   ]
  },
  {
   "cell_type": "code",
   "execution_count": 33,
   "id": "7c61dd77-31f0-4aaf-b280-dade2b632326",
   "metadata": {},
   "outputs": [
    {
     "data": {
      "text/html": [
       "<div>\n",
       "<style scoped>\n",
       "    .dataframe tbody tr th:only-of-type {\n",
       "        vertical-align: middle;\n",
       "    }\n",
       "\n",
       "    .dataframe tbody tr th {\n",
       "        vertical-align: top;\n",
       "    }\n",
       "\n",
       "    .dataframe thead th {\n",
       "        text-align: right;\n",
       "    }\n",
       "</style>\n",
       "<table border=\"1\" class=\"dataframe\">\n",
       "  <thead>\n",
       "    <tr style=\"text-align: right;\">\n",
       "      <th></th>\n",
       "      <th>Rank</th>\n",
       "      <th>Platform</th>\n",
       "      <th>Year</th>\n",
       "      <th>Genre</th>\n",
       "      <th>Publisher</th>\n",
       "      <th>NA_Sales</th>\n",
       "      <th>EU_Sales</th>\n",
       "      <th>JP_Sales</th>\n",
       "      <th>Other_Sales</th>\n",
       "      <th>Global_Sales</th>\n",
       "    </tr>\n",
       "  </thead>\n",
       "  <tbody>\n",
       "    <tr>\n",
       "      <th>0</th>\n",
       "      <td>1</td>\n",
       "      <td>4</td>\n",
       "      <td>2006.0</td>\n",
       "      <td>2</td>\n",
       "      <td>384</td>\n",
       "      <td>41.49</td>\n",
       "      <td>29.02</td>\n",
       "      <td>3.77</td>\n",
       "      <td>8.46</td>\n",
       "      <td>82.74</td>\n",
       "    </tr>\n",
       "    <tr>\n",
       "      <th>1</th>\n",
       "      <td>2</td>\n",
       "      <td>11</td>\n",
       "      <td>1985.0</td>\n",
       "      <td>10</td>\n",
       "      <td>384</td>\n",
       "      <td>29.08</td>\n",
       "      <td>3.58</td>\n",
       "      <td>6.81</td>\n",
       "      <td>0.77</td>\n",
       "      <td>40.24</td>\n",
       "    </tr>\n",
       "    <tr>\n",
       "      <th>2</th>\n",
       "      <td>3</td>\n",
       "      <td>4</td>\n",
       "      <td>2008.0</td>\n",
       "      <td>9</td>\n",
       "      <td>384</td>\n",
       "      <td>15.85</td>\n",
       "      <td>12.88</td>\n",
       "      <td>3.79</td>\n",
       "      <td>3.31</td>\n",
       "      <td>35.82</td>\n",
       "    </tr>\n",
       "    <tr>\n",
       "      <th>3</th>\n",
       "      <td>4</td>\n",
       "      <td>4</td>\n",
       "      <td>2009.0</td>\n",
       "      <td>2</td>\n",
       "      <td>384</td>\n",
       "      <td>15.75</td>\n",
       "      <td>11.01</td>\n",
       "      <td>3.28</td>\n",
       "      <td>2.96</td>\n",
       "      <td>33.00</td>\n",
       "    </tr>\n",
       "    <tr>\n",
       "      <th>4</th>\n",
       "      <td>5</td>\n",
       "      <td>20</td>\n",
       "      <td>1996.0</td>\n",
       "      <td>6</td>\n",
       "      <td>384</td>\n",
       "      <td>11.27</td>\n",
       "      <td>8.89</td>\n",
       "      <td>10.22</td>\n",
       "      <td>1.00</td>\n",
       "      <td>31.37</td>\n",
       "    </tr>\n",
       "  </tbody>\n",
       "</table>\n",
       "</div>"
      ],
      "text/plain": [
       "   Rank  Platform    Year  Genre  Publisher  NA_Sales  EU_Sales  JP_Sales  \\\n",
       "0     1         4  2006.0      2        384     41.49     29.02      3.77   \n",
       "1     2        11  1985.0     10        384     29.08      3.58      6.81   \n",
       "2     3         4  2008.0      9        384     15.85     12.88      3.79   \n",
       "3     4         4  2009.0      2        384     15.75     11.01      3.28   \n",
       "4     5        20  1996.0      6        384     11.27      8.89     10.22   \n",
       "\n",
       "   Other_Sales  Global_Sales  \n",
       "0         8.46         82.74  \n",
       "1         0.77         40.24  \n",
       "2         3.31         35.82  \n",
       "3         2.96         33.00  \n",
       "4         1.00         31.37  "
      ]
     },
     "execution_count": 33,
     "metadata": {},
     "output_type": "execute_result"
    }
   ],
   "source": [
    "df_work.head()"
   ]
  },
  {
   "cell_type": "markdown",
   "id": "c20c3be6-8d1a-4815-8429-bf0ca43e6481",
   "metadata": {},
   "source": [
    "# Статистические характеристики"
   ]
  },
  {
   "cell_type": "code",
   "execution_count": 34,
   "id": "ef35d4ee-5810-4c7f-8941-ae230bbc4b63",
   "metadata": {},
   "outputs": [
    {
     "data": {
      "text/html": [
       "<div>\n",
       "<style scoped>\n",
       "    .dataframe tbody tr th:only-of-type {\n",
       "        vertical-align: middle;\n",
       "    }\n",
       "\n",
       "    .dataframe tbody tr th {\n",
       "        vertical-align: top;\n",
       "    }\n",
       "\n",
       "    .dataframe thead th {\n",
       "        text-align: right;\n",
       "    }\n",
       "</style>\n",
       "<table border=\"1\" class=\"dataframe\">\n",
       "  <thead>\n",
       "    <tr style=\"text-align: right;\">\n",
       "      <th></th>\n",
       "      <th>Rank</th>\n",
       "      <th>Platform</th>\n",
       "      <th>Year</th>\n",
       "      <th>Genre</th>\n",
       "      <th>Publisher</th>\n",
       "      <th>NA_Sales</th>\n",
       "      <th>EU_Sales</th>\n",
       "      <th>JP_Sales</th>\n",
       "      <th>Other_Sales</th>\n",
       "      <th>Global_Sales</th>\n",
       "    </tr>\n",
       "  </thead>\n",
       "  <tbody>\n",
       "    <tr>\n",
       "      <th>count</th>\n",
       "      <td>16540.000000</td>\n",
       "      <td>16540.000000</td>\n",
       "      <td>16540.000000</td>\n",
       "      <td>16540.000000</td>\n",
       "      <td>16540.000000</td>\n",
       "      <td>16540.000000</td>\n",
       "      <td>16540.000000</td>\n",
       "      <td>16540.000000</td>\n",
       "      <td>16540.000000</td>\n",
       "      <td>16540.000000</td>\n",
       "    </tr>\n",
       "    <tr>\n",
       "      <th>mean</th>\n",
       "      <td>8294.197642</td>\n",
       "      <td>14.577449</td>\n",
       "      <td>2006.414510</td>\n",
       "      <td>5.735067</td>\n",
       "      <td>259.146735</td>\n",
       "      <td>0.265079</td>\n",
       "      <td>0.146883</td>\n",
       "      <td>0.077998</td>\n",
       "      <td>0.048191</td>\n",
       "      <td>0.538426</td>\n",
       "    </tr>\n",
       "    <tr>\n",
       "      <th>std</th>\n",
       "      <td>4790.703200</td>\n",
       "      <td>9.431195</td>\n",
       "      <td>5.788794</td>\n",
       "      <td>3.221184</td>\n",
       "      <td>161.686089</td>\n",
       "      <td>0.817929</td>\n",
       "      <td>0.506129</td>\n",
       "      <td>0.309800</td>\n",
       "      <td>0.188879</td>\n",
       "      <td>1.557424</td>\n",
       "    </tr>\n",
       "    <tr>\n",
       "      <th>min</th>\n",
       "      <td>1.000000</td>\n",
       "      <td>1.000000</td>\n",
       "      <td>1980.000000</td>\n",
       "      <td>1.000000</td>\n",
       "      <td>1.000000</td>\n",
       "      <td>0.000000</td>\n",
       "      <td>0.000000</td>\n",
       "      <td>0.000000</td>\n",
       "      <td>0.000000</td>\n",
       "      <td>0.010000</td>\n",
       "    </tr>\n",
       "    <tr>\n",
       "      <th>25%</th>\n",
       "      <td>4143.750000</td>\n",
       "      <td>6.000000</td>\n",
       "      <td>2003.000000</td>\n",
       "      <td>3.000000</td>\n",
       "      <td>137.000000</td>\n",
       "      <td>0.000000</td>\n",
       "      <td>0.000000</td>\n",
       "      <td>0.000000</td>\n",
       "      <td>0.000000</td>\n",
       "      <td>0.060000</td>\n",
       "    </tr>\n",
       "    <tr>\n",
       "      <th>50%</th>\n",
       "      <td>8292.500000</td>\n",
       "      <td>18.000000</td>\n",
       "      <td>2007.000000</td>\n",
       "      <td>5.000000</td>\n",
       "      <td>264.000000</td>\n",
       "      <td>0.080000</td>\n",
       "      <td>0.020000</td>\n",
       "      <td>0.000000</td>\n",
       "      <td>0.010000</td>\n",
       "      <td>0.170000</td>\n",
       "    </tr>\n",
       "    <tr>\n",
       "      <th>75%</th>\n",
       "      <td>12440.250000</td>\n",
       "      <td>23.000000</td>\n",
       "      <td>2010.000000</td>\n",
       "      <td>8.000000</td>\n",
       "      <td>384.000000</td>\n",
       "      <td>0.240000</td>\n",
       "      <td>0.110000</td>\n",
       "      <td>0.040000</td>\n",
       "      <td>0.040000</td>\n",
       "      <td>0.480000</td>\n",
       "    </tr>\n",
       "    <tr>\n",
       "      <th>max</th>\n",
       "      <td>16600.000000</td>\n",
       "      <td>31.000000</td>\n",
       "      <td>2020.000000</td>\n",
       "      <td>12.000000</td>\n",
       "      <td>578.000000</td>\n",
       "      <td>41.490000</td>\n",
       "      <td>29.020000</td>\n",
       "      <td>10.220000</td>\n",
       "      <td>10.570000</td>\n",
       "      <td>82.740000</td>\n",
       "    </tr>\n",
       "  </tbody>\n",
       "</table>\n",
       "</div>"
      ],
      "text/plain": [
       "               Rank      Platform          Year         Genre     Publisher  \\\n",
       "count  16540.000000  16540.000000  16540.000000  16540.000000  16540.000000   \n",
       "mean    8294.197642     14.577449   2006.414510      5.735067    259.146735   \n",
       "std     4790.703200      9.431195      5.788794      3.221184    161.686089   \n",
       "min        1.000000      1.000000   1980.000000      1.000000      1.000000   \n",
       "25%     4143.750000      6.000000   2003.000000      3.000000    137.000000   \n",
       "50%     8292.500000     18.000000   2007.000000      5.000000    264.000000   \n",
       "75%    12440.250000     23.000000   2010.000000      8.000000    384.000000   \n",
       "max    16600.000000     31.000000   2020.000000     12.000000    578.000000   \n",
       "\n",
       "           NA_Sales      EU_Sales      JP_Sales   Other_Sales  Global_Sales  \n",
       "count  16540.000000  16540.000000  16540.000000  16540.000000  16540.000000  \n",
       "mean       0.265079      0.146883      0.077998      0.048191      0.538426  \n",
       "std        0.817929      0.506129      0.309800      0.188879      1.557424  \n",
       "min        0.000000      0.000000      0.000000      0.000000      0.010000  \n",
       "25%        0.000000      0.000000      0.000000      0.000000      0.060000  \n",
       "50%        0.080000      0.020000      0.000000      0.010000      0.170000  \n",
       "75%        0.240000      0.110000      0.040000      0.040000      0.480000  \n",
       "max       41.490000     29.020000     10.220000     10.570000     82.740000  "
      ]
     },
     "execution_count": 34,
     "metadata": {},
     "output_type": "execute_result"
    }
   ],
   "source": [
    "df_work.describe()"
   ]
  },
  {
   "cell_type": "code",
   "execution_count": 35,
   "id": "a93cd863-b86e-4044-b11c-1942d6ff6ad9",
   "metadata": {},
   "outputs": [
    {
     "data": {
      "text/plain": [
       "'WS'"
      ]
     },
     "execution_count": 35,
     "metadata": {},
     "output_type": "execute_result"
    }
   ],
   "source": [
    "list(platform_dict.keys())[list(platform_dict.values()).index(9)]"
   ]
  },
  {
   "cell_type": "markdown",
   "id": "9e215911-91b7-4a94-b680-99e67977bb4e",
   "metadata": {},
   "source": [
    "Медианная платформа - \"WS\""
   ]
  },
  {
   "cell_type": "code",
   "execution_count": 36,
   "id": "7642e562-b684-4e75-8876-2b3418cf131b",
   "metadata": {},
   "outputs": [
    {
     "data": {
      "text/plain": [
       "'Misc'"
      ]
     },
     "execution_count": 36,
     "metadata": {},
     "output_type": "execute_result"
    }
   ],
   "source": [
    "list(genre_dict.keys())[list(genre_dict.values()).index(3)]"
   ]
  },
  {
   "cell_type": "markdown",
   "id": "5087b5f8-4dbf-472e-83c0-e1488ab7744e",
   "metadata": {},
   "source": [
    "Медианный жанр - \"Misc\", разное"
   ]
  },
  {
   "cell_type": "code",
   "execution_count": 37,
   "id": "0d8cced9-f79d-4b5d-b10d-0d9e9e97cc66",
   "metadata": {},
   "outputs": [
    {
     "data": {
      "text/plain": [
       "'Marvelous Interactive'"
      ]
     },
     "execution_count": 37,
     "metadata": {},
     "output_type": "execute_result"
    }
   ],
   "source": [
    "list(publisher_dict.keys())[list(publisher_dict.values()).index(3)]"
   ]
  },
  {
   "cell_type": "markdown",
   "id": "f94ead8d-56d6-4d93-96db-64f9501b34a7",
   "metadata": {},
   "source": [
    "Медианный издатель - \"Marvelous Interactive\""
   ]
  },
  {
   "cell_type": "markdown",
   "id": "4099a21a-ecc5-40f7-b806-4c234cdac885",
   "metadata": {},
   "source": [
    "Медианное значение - то, значений меньше и больше которого  одинаковое количество"
   ]
  },
  {
   "cell_type": "markdown",
   "id": "03384dfb-c134-4761-bf0b-df40b43cfce8",
   "metadata": {},
   "source": [
    "Матрица корреляции между колонками датасета:"
   ]
  },
  {
   "cell_type": "code",
   "execution_count": 38,
   "id": "d9263732-1be3-4a07-91dd-c899f4367e8b",
   "metadata": {},
   "outputs": [
    {
     "data": {
      "text/html": [
       "<div>\n",
       "<style scoped>\n",
       "    .dataframe tbody tr th:only-of-type {\n",
       "        vertical-align: middle;\n",
       "    }\n",
       "\n",
       "    .dataframe tbody tr th {\n",
       "        vertical-align: top;\n",
       "    }\n",
       "\n",
       "    .dataframe thead th {\n",
       "        text-align: right;\n",
       "    }\n",
       "</style>\n",
       "<table border=\"1\" class=\"dataframe\">\n",
       "  <thead>\n",
       "    <tr style=\"text-align: right;\">\n",
       "      <th></th>\n",
       "      <th>Rank</th>\n",
       "      <th>Platform</th>\n",
       "      <th>Year</th>\n",
       "      <th>Genre</th>\n",
       "      <th>Publisher</th>\n",
       "      <th>NA_Sales</th>\n",
       "      <th>EU_Sales</th>\n",
       "      <th>JP_Sales</th>\n",
       "      <th>Other_Sales</th>\n",
       "      <th>Global_Sales</th>\n",
       "    </tr>\n",
       "  </thead>\n",
       "  <tbody>\n",
       "    <tr>\n",
       "      <th>Rank</th>\n",
       "      <td>1.000000</td>\n",
       "      <td>0.169574</td>\n",
       "      <td>0.176825</td>\n",
       "      <td>0.146234</td>\n",
       "      <td>0.029357</td>\n",
       "      <td>-0.401236</td>\n",
       "      <td>-0.379068</td>\n",
       "      <td>-0.268056</td>\n",
       "      <td>-0.333081</td>\n",
       "      <td>-0.427391</td>\n",
       "    </tr>\n",
       "    <tr>\n",
       "      <th>Platform</th>\n",
       "      <td>0.169574</td>\n",
       "      <td>1.000000</td>\n",
       "      <td>-0.168743</td>\n",
       "      <td>0.133087</td>\n",
       "      <td>0.033473</td>\n",
       "      <td>-0.081299</td>\n",
       "      <td>-0.072225</td>\n",
       "      <td>0.073516</td>\n",
       "      <td>-0.100905</td>\n",
       "      <td>-0.063767</td>\n",
       "    </tr>\n",
       "    <tr>\n",
       "      <th>Year</th>\n",
       "      <td>0.176825</td>\n",
       "      <td>-0.168743</td>\n",
       "      <td>1.000000</td>\n",
       "      <td>0.007884</td>\n",
       "      <td>-0.080256</td>\n",
       "      <td>-0.091157</td>\n",
       "      <td>0.005930</td>\n",
       "      <td>-0.169495</td>\n",
       "      <td>0.040949</td>\n",
       "      <td>-0.074710</td>\n",
       "    </tr>\n",
       "    <tr>\n",
       "      <th>Genre</th>\n",
       "      <td>0.146234</td>\n",
       "      <td>0.133087</td>\n",
       "      <td>0.007884</td>\n",
       "      <td>1.000000</td>\n",
       "      <td>-0.002866</td>\n",
       "      <td>-0.031676</td>\n",
       "      <td>-0.026933</td>\n",
       "      <td>0.016546</td>\n",
       "      <td>-0.044891</td>\n",
       "      <td>-0.027507</td>\n",
       "    </tr>\n",
       "    <tr>\n",
       "      <th>Publisher</th>\n",
       "      <td>0.029357</td>\n",
       "      <td>0.033473</td>\n",
       "      <td>-0.080256</td>\n",
       "      <td>-0.002866</td>\n",
       "      <td>1.000000</td>\n",
       "      <td>0.023085</td>\n",
       "      <td>0.011775</td>\n",
       "      <td>0.058715</td>\n",
       "      <td>-0.011792</td>\n",
       "      <td>0.026212</td>\n",
       "    </tr>\n",
       "    <tr>\n",
       "      <th>NA_Sales</th>\n",
       "      <td>-0.401236</td>\n",
       "      <td>-0.081299</td>\n",
       "      <td>-0.091157</td>\n",
       "      <td>-0.031676</td>\n",
       "      <td>0.023085</td>\n",
       "      <td>1.000000</td>\n",
       "      <td>0.767672</td>\n",
       "      <td>0.449864</td>\n",
       "      <td>0.634651</td>\n",
       "      <td>0.941036</td>\n",
       "    </tr>\n",
       "    <tr>\n",
       "      <th>EU_Sales</th>\n",
       "      <td>-0.379068</td>\n",
       "      <td>-0.072225</td>\n",
       "      <td>0.005930</td>\n",
       "      <td>-0.026933</td>\n",
       "      <td>0.011775</td>\n",
       "      <td>0.767672</td>\n",
       "      <td>1.000000</td>\n",
       "      <td>0.435658</td>\n",
       "      <td>0.726326</td>\n",
       "      <td>0.902817</td>\n",
       "    </tr>\n",
       "    <tr>\n",
       "      <th>JP_Sales</th>\n",
       "      <td>-0.268056</td>\n",
       "      <td>0.073516</td>\n",
       "      <td>-0.169495</td>\n",
       "      <td>0.016546</td>\n",
       "      <td>0.058715</td>\n",
       "      <td>0.449864</td>\n",
       "      <td>0.435658</td>\n",
       "      <td>1.000000</td>\n",
       "      <td>0.290150</td>\n",
       "      <td>0.611893</td>\n",
       "    </tr>\n",
       "    <tr>\n",
       "      <th>Other_Sales</th>\n",
       "      <td>-0.333081</td>\n",
       "      <td>-0.100905</td>\n",
       "      <td>0.040949</td>\n",
       "      <td>-0.044891</td>\n",
       "      <td>-0.011792</td>\n",
       "      <td>0.634651</td>\n",
       "      <td>0.726326</td>\n",
       "      <td>0.290150</td>\n",
       "      <td>1.000000</td>\n",
       "      <td>0.748260</td>\n",
       "    </tr>\n",
       "    <tr>\n",
       "      <th>Global_Sales</th>\n",
       "      <td>-0.427391</td>\n",
       "      <td>-0.063767</td>\n",
       "      <td>-0.074710</td>\n",
       "      <td>-0.027507</td>\n",
       "      <td>0.026212</td>\n",
       "      <td>0.941036</td>\n",
       "      <td>0.902817</td>\n",
       "      <td>0.611893</td>\n",
       "      <td>0.748260</td>\n",
       "      <td>1.000000</td>\n",
       "    </tr>\n",
       "  </tbody>\n",
       "</table>\n",
       "</div>"
      ],
      "text/plain": [
       "                  Rank  Platform      Year     Genre  Publisher  NA_Sales  \\\n",
       "Rank          1.000000  0.169574  0.176825  0.146234   0.029357 -0.401236   \n",
       "Platform      0.169574  1.000000 -0.168743  0.133087   0.033473 -0.081299   \n",
       "Year          0.176825 -0.168743  1.000000  0.007884  -0.080256 -0.091157   \n",
       "Genre         0.146234  0.133087  0.007884  1.000000  -0.002866 -0.031676   \n",
       "Publisher     0.029357  0.033473 -0.080256 -0.002866   1.000000  0.023085   \n",
       "NA_Sales     -0.401236 -0.081299 -0.091157 -0.031676   0.023085  1.000000   \n",
       "EU_Sales     -0.379068 -0.072225  0.005930 -0.026933   0.011775  0.767672   \n",
       "JP_Sales     -0.268056  0.073516 -0.169495  0.016546   0.058715  0.449864   \n",
       "Other_Sales  -0.333081 -0.100905  0.040949 -0.044891  -0.011792  0.634651   \n",
       "Global_Sales -0.427391 -0.063767 -0.074710 -0.027507   0.026212  0.941036   \n",
       "\n",
       "              EU_Sales  JP_Sales  Other_Sales  Global_Sales  \n",
       "Rank         -0.379068 -0.268056    -0.333081     -0.427391  \n",
       "Platform     -0.072225  0.073516    -0.100905     -0.063767  \n",
       "Year          0.005930 -0.169495     0.040949     -0.074710  \n",
       "Genre        -0.026933  0.016546    -0.044891     -0.027507  \n",
       "Publisher     0.011775  0.058715    -0.011792      0.026212  \n",
       "NA_Sales      0.767672  0.449864     0.634651      0.941036  \n",
       "EU_Sales      1.000000  0.435658     0.726326      0.902817  \n",
       "JP_Sales      0.435658  1.000000     0.290150      0.611893  \n",
       "Other_Sales   0.726326  0.290150     1.000000      0.748260  \n",
       "Global_Sales  0.902817  0.611893     0.748260      1.000000  "
      ]
     },
     "execution_count": 38,
     "metadata": {},
     "output_type": "execute_result"
    }
   ],
   "source": [
    "df_work.corr()"
   ]
  },
  {
   "cell_type": "markdown",
   "id": "618424db-3c98-44cf-9875-f68d3836beba",
   "metadata": {},
   "source": [
    "Чем выше значение, тем больше зависимость характеристик"
   ]
  },
  {
   "cell_type": "markdown",
   "id": "15c5df6c-1625-4b01-b017-e86d8ef39ea5",
   "metadata": {},
   "source": [
    "Для большей наглядности нужна тепловая карта корреляции:"
   ]
  },
  {
   "cell_type": "code",
   "execution_count": 39,
   "id": "19c031e4-7b6f-4612-be4c-bfd5fcdf6f0a",
   "metadata": {},
   "outputs": [
    {
     "data": {
      "text/plain": [
       "<Axes: >"
      ]
     },
     "execution_count": 39,
     "metadata": {},
     "output_type": "execute_result"
    },
    {
     "data": {
      "image/png": "[encoded data removed]",
      "text/plain": [
       "<Figure size 640x480 with 2 Axes>"
      ]
     },
     "metadata": {},
     "output_type": "display_data"
    }
   ],
   "source": [
    "upper_matrix = np.triu(df_work.corr())\n",
    "sns.heatmap(df_work.corr(), annot=True, mask=upper_matrix)"
   ]
  },
  {
   "cell_type": "markdown",
   "id": "8c0da086-4f07-4c37-8ca3-55a58c374c57",
   "metadata": {},
   "source": [
    "Исходя из неё, наибольшая положительная зависимость у столбцов с продажами, а наименьшая положительная - у ранга с продажами, а также у платформы совместно с годом и продажами в Японии совместно с годом"
   ]
  },
  {
   "cell_type": "markdown",
   "id": "f8eb81c9-5c53-426c-8ae5-e2e92e3a80cc",
   "metadata": {},
   "source": [
    "Для платформы и жанра можно отобразить распределение количества игр для каждой платформы по оригинальному датасету:"
   ]
  },
  {
   "cell_type": "code",
   "execution_count": 40,
   "id": "58e71a5f-acef-461a-b658-d9c66b57d998",
   "metadata": {},
   "outputs": [
    {
     "data": {
      "text/plain": [
       "<Axes: xlabel='Platform', ylabel='Count'>"
      ]
     },
     "execution_count": 40,
     "metadata": {},
     "output_type": "execute_result"
    },
    {
     "data": {
      "image/png": "[encoded data removed]",
      "text/plain": [
       "<Figure size 1400x700 with 1 Axes>"
      ]
     },
     "metadata": {},
     "output_type": "display_data"
    }
   ],
   "source": [
    "fig =  plt.figure(figsize=(14, 7))\n",
    "sns.histplot(df['Platform'], kde=True)"
   ]
  },
  {
   "cell_type": "code",
   "execution_count": 41,
   "id": "3eefaab4-6403-4fba-8ed1-efa59169aa53",
   "metadata": {},
   "outputs": [
    {
     "data": {
      "text/plain": [
       "<Axes: xlabel='Genre', ylabel='Count'>"
      ]
     },
     "execution_count": 41,
     "metadata": {},
     "output_type": "execute_result"
    },
    {
     "data": {
      "image/png": "[encoded data removed]",
      "text/plain": [
       "<Figure size 1400x700 with 1 Axes>"
      ]
     },
     "metadata": {},
     "output_type": "display_data"
    }
   ],
   "source": [
    "fig =  plt.figure(figsize=(14, 7))\n",
    "sns.histplot(df['Genre'], kde=True)"
   ]
  },
  {
   "cell_type": "markdown",
   "id": "f2a48dd7-6cc2-4b0d-aa12-471b71eee34e",
   "metadata": {},
   "source": [
    "Для платформы ситуация сложнее. Можно тоже отобразить распределение, но уже по числовому варианту датасета. Чтобы его проанализировать, нужно составить срезы по экстремумам и сопоставить издателей с номерами с помощью словаря publisher_dict"
   ]
  },
  {
   "cell_type": "code",
   "execution_count": 42,
   "id": "cae119a4-260a-4a52-8b61-01911674d720",
   "metadata": {},
   "outputs": [
    {
     "data": {
      "text/plain": [
       "<Axes: xlabel='Publisher', ylabel='Count'>"
      ]
     },
     "execution_count": 42,
     "metadata": {},
     "output_type": "execute_result"
    },
    {
     "data": {
      "image/png": "[encoded data removed]",
      "text/plain": [
       "<Figure size 1400x700 with 1 Axes>"
      ]
     },
     "metadata": {},
     "output_type": "display_data"
    }
   ],
   "source": [
    "fig =  plt.figure(figsize=(14, 7))\n",
    "sns.histplot(df_work['Publisher'], kde=True)"
   ]
  },
  {
   "cell_type": "markdown",
   "id": "35b9c33f-5b3f-4b15-8bbb-ce15262f7ebd",
   "metadata": {},
   "source": [
    "По кривой здесь видны:\n",
    "- Глобальный максимум чуть меньше 500\n",
    "- Приблизительно 3 глобальных минимума со значениями в окрестностях 100, 250 и 510\n",
    "- 6 локальных максимумов\n",
    "- 5 локальных минимумов"
   ]
  },
  {
   "cell_type": "code",
   "execution_count": 43,
   "id": "02e27c55-82a2-4594-a43c-8e3ea7c827f3",
   "metadata": {},
   "outputs": [],
   "source": [
    "def publisher_by_index(i):\n",
    "    return list(publisher_dict.keys())[list(publisher_dict.values()).index(i)]"
   ]
  },
  {
   "cell_type": "code",
   "execution_count": 44,
   "id": "43022daa-29a7-444e-ae0b-51ab702d7e05",
   "metadata": {},
   "outputs": [],
   "source": [
    "pbhr_local_maxs = [[publisher_by_index(i) for i in range(40, 61)],\n",
    "        [publisher_by_index(i) for i in range(180, 201)],\n",
    "        [publisher_by_index(i) for i in range(270, 291)],\n",
    "        [publisher_by_index(i) for i in range(340, 381)],\n",
    "        [publisher_by_index(i) for i in range(470, 491)],\n",
    "        [publisher_by_index(i) for i in range(540, 560)]\n",
    "       ]\n",
    "pbhr_local_mins = [[publisher_by_index(i) for i in range(62, 180)],\n",
    "        [publisher_by_index(i) for i in range(202, 270)],\n",
    "        [publisher_by_index(i) for i in range(292, 340)],\n",
    "        [publisher_by_index(i) for i in range(382, 470)],\n",
    "        [publisher_by_index(i) for i in range(492, 540)]]\n",
    "\n",
    "pbhr_global_maxs = [publisher_by_index(i) for i in range(465, 485)]\n",
    "pbhr_global_mins = [[publisher_by_index(i) for i in range(99, 116)],\n",
    "                    [publisher_by_index(i) for i in range(450, 466)],\n",
    "                    [publisher_by_index(i) for i in range(500, 515)]\n",
    "                   ]"
   ]
  },
  {
   "cell_type": "markdown",
   "id": "310bb768-0258-4de2-bcae-23e1572de5d5",
   "metadata": {},
   "source": [
    "Здесь глобальные и локальные экстремумы могут пересекаться ввиду сильного сглаживания распределения. Также, крайние значения не были взяты. Можно записать их в отдельный список:"
   ]
  },
  {
   "cell_type": "code",
   "execution_count": 45,
   "id": "e9fa36cd-4276-41eb-9ccd-e323979a9158",
   "metadata": {},
   "outputs": [],
   "source": [
    "pbhr_other_values = [[publisher_by_index(i) for i in range(1, 40)],\n",
    "                     [publisher_by_index(i) for i in range(562, 579)]\n",
    "                    ]"
   ]
  },
  {
   "cell_type": "code",
   "execution_count": 46,
   "id": "be2cc5ad-f247-4b94-b9ab-e17c59a6242f",
   "metadata": {},
   "outputs": [
    {
     "data": {
      "image/png": "[encoded data removed]",
      "text/plain": [
       "<Figure size 640x480 with 1 Axes>"
      ]
     },
     "metadata": {},
     "output_type": "display_data"
    },
    {
     "data": {
      "image/png": "[encoded data removed]",
      "text/plain": [
       "<Figure size 640x480 with 1 Axes>"
      ]
     },
     "metadata": {},
     "output_type": "display_data"
    },
    {
     "data": {
      "image/png": "[encoded data removed]",
      "text/plain": [
       "<Figure size 640x480 with 1 Axes>"
      ]
     },
     "metadata": {},
     "output_type": "display_data"
    },
    {
     "data": {
      "image/png": "[encoded data removed]",
      "text/plain": [
       "<Figure size 640x480 with 1 Axes>"
      ]
     },
     "metadata": {},
     "output_type": "display_data"
    },
    {
     "data": {
      "image/png": "[encoded data removed]",
      "text/plain": [
       "<Figure size 640x480 with 1 Axes>"
      ]
     },
     "metadata": {},
     "output_type": "display_data"
    },
    {
     "data": {
      "image/png": "[encoded data removed]",
      "text/plain": [
       "<Figure size 640x480 with 1 Axes>"
      ]
     },
     "metadata": {},
     "output_type": "display_data"
    },
    {
     "data": {
      "image/png": "[encoded data removed]",
      "text/plain": [
       "<Figure size 640x480 with 1 Axes>"
      ]
     },
     "metadata": {},
     "output_type": "display_data"
    },
    {
     "data": {
      "image/png": "[encoded data removed]",
      "text/plain": [
       "<Figure size 640x480 with 1 Axes>"
      ]
     },
     "metadata": {},
     "output_type": "display_data"
    },
    {
     "data": {
      "image/png": "[encoded data removed]",
      "text/plain": [
       "<Figure size 640x480 with 1 Axes>"
      ]
     },
     "metadata": {},
     "output_type": "display_data"
    },
    {
     "data": {
      "image/png": "[encoded data removed]",
      "text/plain": [
       "<Figure size 640x480 with 1 Axes>"
      ]
     },
     "metadata": {},
     "output_type": "display_data"
    }
   ],
   "source": [
    "for i in df_work.columns:\n",
    "    sns.boxplot(df_work[i])\n",
    "    plt.ylabel(f\"{i}\")\n",
    "    plt.title('Boxplot диаграмма распределения')\n",
    "    plt.show()"
   ]
  },
  {
   "cell_type": "markdown",
   "id": "d0a601d2-7c1c-486f-a3ca-bdc8bac55a1d",
   "metadata": {},
   "source": [
    "У столбца с годом выбросы ниже значения 1993, а все столбцы с продажами содержат настолько неравномерные данные, что выбросами считается большая их часть"
   ]
  },
  {
   "cell_type": "code",
   "execution_count": 47,
   "id": "395acca2-5331-4572-9e04-e5a6fa24fc57",
   "metadata": {},
   "outputs": [
    {
     "data": {
      "text/html": [
       "<div>\n",
       "<style scoped>\n",
       "    .dataframe tbody tr th:only-of-type {\n",
       "        vertical-align: middle;\n",
       "    }\n",
       "\n",
       "    .dataframe tbody tr th {\n",
       "        vertical-align: top;\n",
       "    }\n",
       "\n",
       "    .dataframe thead th {\n",
       "        text-align: right;\n",
       "    }\n",
       "</style>\n",
       "<table border=\"1\" class=\"dataframe\">\n",
       "  <thead>\n",
       "    <tr style=\"text-align: right;\">\n",
       "      <th></th>\n",
       "      <th>Rank</th>\n",
       "      <th>Name</th>\n",
       "      <th>Platform</th>\n",
       "      <th>Year</th>\n",
       "      <th>Genre</th>\n",
       "      <th>Publisher</th>\n",
       "      <th>NA_Sales</th>\n",
       "      <th>EU_Sales</th>\n",
       "      <th>JP_Sales</th>\n",
       "      <th>Other_Sales</th>\n",
       "      <th>Global_Sales</th>\n",
       "    </tr>\n",
       "  </thead>\n",
       "  <tbody>\n",
       "    <tr>\n",
       "      <th>1</th>\n",
       "      <td>2</td>\n",
       "      <td>Super Mario Bros.</td>\n",
       "      <td>NES</td>\n",
       "      <td>1985.0</td>\n",
       "      <td>Platform</td>\n",
       "      <td>Nintendo</td>\n",
       "      <td>29.08</td>\n",
       "      <td>3.58</td>\n",
       "      <td>6.81</td>\n",
       "      <td>0.77</td>\n",
       "      <td>40.24</td>\n",
       "    </tr>\n",
       "    <tr>\n",
       "      <th>5</th>\n",
       "      <td>6</td>\n",
       "      <td>Tetris</td>\n",
       "      <td>GB</td>\n",
       "      <td>1989.0</td>\n",
       "      <td>Puzzle</td>\n",
       "      <td>Nintendo</td>\n",
       "      <td>23.20</td>\n",
       "      <td>2.26</td>\n",
       "      <td>4.22</td>\n",
       "      <td>0.58</td>\n",
       "      <td>30.26</td>\n",
       "    </tr>\n",
       "    <tr>\n",
       "      <th>9</th>\n",
       "      <td>10</td>\n",
       "      <td>Duck Hunt</td>\n",
       "      <td>NES</td>\n",
       "      <td>1984.0</td>\n",
       "      <td>Shooter</td>\n",
       "      <td>Nintendo</td>\n",
       "      <td>26.93</td>\n",
       "      <td>0.63</td>\n",
       "      <td>0.28</td>\n",
       "      <td>0.47</td>\n",
       "      <td>28.31</td>\n",
       "    </tr>\n",
       "    <tr>\n",
       "      <th>18</th>\n",
       "      <td>19</td>\n",
       "      <td>Super Mario World</td>\n",
       "      <td>SNES</td>\n",
       "      <td>1990.0</td>\n",
       "      <td>Platform</td>\n",
       "      <td>Nintendo</td>\n",
       "      <td>12.78</td>\n",
       "      <td>3.75</td>\n",
       "      <td>3.54</td>\n",
       "      <td>0.55</td>\n",
       "      <td>20.61</td>\n",
       "    </tr>\n",
       "    <tr>\n",
       "      <th>21</th>\n",
       "      <td>22</td>\n",
       "      <td>Super Mario Land</td>\n",
       "      <td>GB</td>\n",
       "      <td>1989.0</td>\n",
       "      <td>Platform</td>\n",
       "      <td>Nintendo</td>\n",
       "      <td>10.83</td>\n",
       "      <td>2.71</td>\n",
       "      <td>4.18</td>\n",
       "      <td>0.42</td>\n",
       "      <td>18.14</td>\n",
       "    </tr>\n",
       "    <tr>\n",
       "      <th>...</th>\n",
       "      <td>...</td>\n",
       "      <td>...</td>\n",
       "      <td>...</td>\n",
       "      <td>...</td>\n",
       "      <td>...</td>\n",
       "      <td>...</td>\n",
       "      <td>...</td>\n",
       "      <td>...</td>\n",
       "      <td>...</td>\n",
       "      <td>...</td>\n",
       "      <td>...</td>\n",
       "    </tr>\n",
       "    <tr>\n",
       "      <th>14507</th>\n",
       "      <td>14510</td>\n",
       "      <td>SimCity</td>\n",
       "      <td>PC</td>\n",
       "      <td>1988.0</td>\n",
       "      <td>Simulation</td>\n",
       "      <td>Maxis</td>\n",
       "      <td>0.00</td>\n",
       "      <td>0.02</td>\n",
       "      <td>0.00</td>\n",
       "      <td>0.01</td>\n",
       "      <td>0.03</td>\n",
       "    </tr>\n",
       "    <tr>\n",
       "      <th>14599</th>\n",
       "      <td>14602</td>\n",
       "      <td>Doom</td>\n",
       "      <td>PC</td>\n",
       "      <td>1992.0</td>\n",
       "      <td>Shooter</td>\n",
       "      <td>id Software</td>\n",
       "      <td>0.02</td>\n",
       "      <td>0.00</td>\n",
       "      <td>0.00</td>\n",
       "      <td>0.00</td>\n",
       "      <td>0.03</td>\n",
       "    </tr>\n",
       "    <tr>\n",
       "      <th>15867</th>\n",
       "      <td>15870</td>\n",
       "      <td>Strongest Tokyo University Shogi DS</td>\n",
       "      <td>DS</td>\n",
       "      <td>1985.0</td>\n",
       "      <td>Action</td>\n",
       "      <td>Mycom</td>\n",
       "      <td>0.00</td>\n",
       "      <td>0.00</td>\n",
       "      <td>0.02</td>\n",
       "      <td>0.00</td>\n",
       "      <td>0.02</td>\n",
       "    </tr>\n",
       "    <tr>\n",
       "      <th>16073</th>\n",
       "      <td>16076</td>\n",
       "      <td>Empire Deluxe</td>\n",
       "      <td>PC</td>\n",
       "      <td>1992.0</td>\n",
       "      <td>Strategy</td>\n",
       "      <td>New World Computing</td>\n",
       "      <td>0.01</td>\n",
       "      <td>0.00</td>\n",
       "      <td>0.00</td>\n",
       "      <td>0.00</td>\n",
       "      <td>0.01</td>\n",
       "    </tr>\n",
       "    <tr>\n",
       "      <th>16105</th>\n",
       "      <td>16108</td>\n",
       "      <td>Rock N' Roll Racing</td>\n",
       "      <td>SNES</td>\n",
       "      <td>1993.0</td>\n",
       "      <td>Racing</td>\n",
       "      <td>Interplay</td>\n",
       "      <td>0.00</td>\n",
       "      <td>0.00</td>\n",
       "      <td>0.01</td>\n",
       "      <td>0.00</td>\n",
       "      <td>0.01</td>\n",
       "    </tr>\n",
       "  </tbody>\n",
       "</table>\n",
       "<p>365 rows × 11 columns</p>\n",
       "</div>"
      ],
      "text/plain": [
       "        Rank                                 Name Platform    Year  \\\n",
       "1          2                    Super Mario Bros.      NES  1985.0   \n",
       "5          6                               Tetris       GB  1989.0   \n",
       "9         10                            Duck Hunt      NES  1984.0   \n",
       "18        19                    Super Mario World     SNES  1990.0   \n",
       "21        22                     Super Mario Land       GB  1989.0   \n",
       "...      ...                                  ...      ...     ...   \n",
       "14507  14510                              SimCity       PC  1988.0   \n",
       "14599  14602                                 Doom       PC  1992.0   \n",
       "15867  15870  Strongest Tokyo University Shogi DS       DS  1985.0   \n",
       "16073  16076                        Empire Deluxe       PC  1992.0   \n",
       "16105  16108                  Rock N' Roll Racing     SNES  1993.0   \n",
       "\n",
       "            Genre            Publisher  NA_Sales  EU_Sales  JP_Sales  \\\n",
       "1        Platform             Nintendo     29.08      3.58      6.81   \n",
       "5          Puzzle             Nintendo     23.20      2.26      4.22   \n",
       "9         Shooter             Nintendo     26.93      0.63      0.28   \n",
       "18       Platform             Nintendo     12.78      3.75      3.54   \n",
       "21       Platform             Nintendo     10.83      2.71      4.18   \n",
       "...           ...                  ...       ...       ...       ...   \n",
       "14507  Simulation                Maxis      0.00      0.02      0.00   \n",
       "14599     Shooter          id Software      0.02      0.00      0.00   \n",
       "15867      Action                Mycom      0.00      0.00      0.02   \n",
       "16073    Strategy  New World Computing      0.01      0.00      0.00   \n",
       "16105      Racing            Interplay      0.00      0.00      0.01   \n",
       "\n",
       "       Other_Sales  Global_Sales  \n",
       "1             0.77         40.24  \n",
       "5             0.58         30.26  \n",
       "9             0.47         28.31  \n",
       "18            0.55         20.61  \n",
       "21            0.42         18.14  \n",
       "...            ...           ...  \n",
       "14507         0.01          0.03  \n",
       "14599         0.00          0.03  \n",
       "15867         0.00          0.02  \n",
       "16073         0.00          0.01  \n",
       "16105         0.00          0.01  \n",
       "\n",
       "[365 rows x 11 columns]"
      ]
     },
     "execution_count": 47,
     "metadata": {},
     "output_type": "execute_result"
    }
   ],
   "source": [
    "df[df.Year <= 1993]"
   ]
  },
  {
   "cell_type": "markdown",
   "id": "293fa3c8-1d3a-4438-82c9-7f5fa6c5b408",
   "metadata": {},
   "source": [
    "С годом это 365 строк"
   ]
  },
  {
   "cell_type": "markdown",
   "id": "8a85ea5f-1bb7-439f-9dba-d6e0c65d9134",
   "metadata": {},
   "source": [
    "Пример распределения одного из столбцов с продажами:"
   ]
  },
  {
   "cell_type": "code",
   "execution_count": 48,
   "id": "7b755f36-90b5-4828-b962-e2366963eaee",
   "metadata": {},
   "outputs": [
    {
     "data": {
      "text/plain": [
       "<Axes: xlabel='NA_Sales', ylabel='Count'>"
      ]
     },
     "execution_count": 48,
     "metadata": {},
     "output_type": "execute_result"
    },
    {
     "data": {
      "image/png": "[encoded data removed]",
      "text/plain": [
       "<Figure size 640x480 with 1 Axes>"
      ]
     },
     "metadata": {},
     "output_type": "display_data"
    }
   ],
   "source": [
    "sns.histplot(df_work[\"NA_Sales\"])"
   ]
  },
  {
   "cell_type": "markdown",
   "id": "d64f8404-0034-4dcf-8dce-fc35cb8aa489",
   "metadata": {},
   "source": [
    "Это очень плохой вариант распределения. У него имеется так называемый long tail в левой части и небольшая часть данных с большим разбросом. Можно применить несколько методик для исправления таких данных.  \n",
    "Для начала, логарифмирую весь столбец (вектор в данном случае):"
   ]
  },
  {
   "cell_type": "code",
   "execution_count": 49,
   "id": "f65f2c1c-3945-42cb-b982-fbe37ae74d21",
   "metadata": {},
   "outputs": [],
   "source": [
    "log_NA_Sales = np.log1p(df_work[\"NA_Sales\"])"
   ]
  },
  {
   "cell_type": "code",
   "execution_count": 50,
   "id": "6898eb7e-0628-4cdf-b3e1-8890f64c6361",
   "metadata": {},
   "outputs": [
    {
     "data": {
      "text/plain": [
       "<Axes: xlabel='NA_Sales', ylabel='Count'>"
      ]
     },
     "execution_count": 50,
     "metadata": {},
     "output_type": "execute_result"
    },
    {
     "data": {
      "image/png": "[encoded data removed]",
      "text/plain": [
       "<Figure size 640x480 with 1 Axes>"
      ]
     },
     "metadata": {},
     "output_type": "display_data"
    }
   ],
   "source": [
    "sns.histplot(log_NA_Sales)"
   ]
  },
  {
   "cell_type": "markdown",
   "id": "fbe1ba07-c9a5-492c-b45a-6361e4a3ad77",
   "metadata": {},
   "source": [
    "Распределение заметно улучшилось. Но \"хвост\" остался.  \n",
    "Теперь воспользуюсь методом IQR для удаления выбросов. Нужно взять 2 квантиля(первый и третий), посчитать интерквантильный размах (IQR) и взять только данные, подходящие под следующую формулу:"
   ]
  },
  {
   "cell_type": "code",
   "execution_count": 51,
   "id": "3029dc16-7c7d-45ba-b921-b47f3ad007d6",
   "metadata": {},
   "outputs": [],
   "source": [
    "Q1 = log_NA_Sales.quantile(0.25)\n",
    "Q3 = log_NA_Sales.quantile(0.75)\n",
    "IQR = Q3 - Q1\n",
    "\n",
    "no_otls_log_NA_Sales = log_NA_Sales[(log_NA_Sales >= Q1 - 1.5 * IQR) &\n",
    "                                    (log_NA_Sales <= Q3 + 1.5 * IQR)]"
   ]
  },
  {
   "cell_type": "code",
   "execution_count": 52,
   "id": "4e333dcb-345d-4cce-a03c-0328e15ae127",
   "metadata": {},
   "outputs": [
    {
     "data": {
      "text/plain": [
       "15146"
      ]
     },
     "execution_count": 52,
     "metadata": {},
     "output_type": "execute_result"
    }
   ],
   "source": [
    "len(no_otls_log_NA_Sales)"
   ]
  },
  {
   "cell_type": "markdown",
   "id": "89357a29-c652-4521-88d6-56ede29a6908",
   "metadata": {},
   "source": [
    "Записей стало несколько меньше. Но общий объём позволяет. Стоит учитывать, что данные с лучшим распределением подвергаются более простому прогнозированию и анализу"
   ]
  },
  {
   "cell_type": "code",
   "execution_count": 53,
   "id": "38d1dcb4-ffb5-4ec1-9917-36f020c99111",
   "metadata": {},
   "outputs": [
    {
     "data": {
      "text/plain": [
       "<Axes: xlabel='NA_Sales', ylabel='Count'>"
      ]
     },
     "execution_count": 53,
     "metadata": {},
     "output_type": "execute_result"
    },
    {
     "data": {
      "image/png": "[encoded data removed]",
      "text/plain": [
       "<Figure size 640x480 with 1 Axes>"
      ]
     },
     "metadata": {},
     "output_type": "display_data"
    }
   ],
   "source": [
    "sns.histplot(no_otls_log_NA_Sales)"
   ]
  },
  {
   "cell_type": "markdown",
   "id": "5adb74dd-c717-4453-85ad-ab0bb4e73ab2",
   "metadata": {},
   "source": [
    "Теперь распределение выглядит более здоровым. Но значительная часть данных всё ещё близка к нулю. Возможно, для прогнозирования придётся использовть устойчивые к смещению модели"
   ]
  },
  {
   "cell_type": "code",
   "execution_count": 54,
   "id": "228a5958-d0a9-4194-afe6-ae66ddcdb562",
   "metadata": {},
   "outputs": [
    {
     "data": {
      "image/png": "[encoded data removed]",
      "text/plain": [
       "<Figure size 640x480 with 1 Axes>"
      ]
     },
     "metadata": {},
     "output_type": "display_data"
    }
   ],
   "source": [
    "sns.boxplot(pd.Series(no_otls_log_NA_Sales.reset_index(drop=True)))\n",
    "plt.title('Boxplot диаграмма распределения')\n",
    "plt.show()"
   ]
  },
  {
   "cell_type": "markdown",
   "id": "4fda94a6-ff46-4467-983a-74717e63ca72",
   "metadata": {},
   "source": [
    "На boxplot диаграмме также заметны выбросы. Но теперь она хотя бы читается"
   ]
  },
  {
   "cell_type": "markdown",
   "id": "3b6f39bb-199d-4708-ba35-d48e35840838",
   "metadata": {},
   "source": [
    "А вот и причина. Ведь не все игры продаются во всех регионах"
   ]
  },
  {
   "cell_type": "code",
   "execution_count": 55,
   "id": "062d97ec-a0d2-4988-a132-c7ad5566b048",
   "metadata": {},
   "outputs": [
    {
     "data": {
      "text/plain": [
       "4499"
      ]
     },
     "execution_count": 55,
     "metadata": {},
     "output_type": "execute_result"
    }
   ],
   "source": [
    "len(df.NA_Sales[df.NA_Sales == 0])"
   ]
  },
  {
   "cell_type": "markdown",
   "id": "3292b4bb-ce58-4f64-b794-ce7caed50358",
   "metadata": {},
   "source": [
    "Значит, можно посмотреть на все колонки продаж df_work и добавить новые столбцы с бинарным значением, есть ли продажи в категории"
   ]
  },
  {
   "cell_type": "code",
   "execution_count": 56,
   "id": "a2ed5869-d20f-4dd8-afab-16c1d6c7e080",
   "metadata": {},
   "outputs": [
    {
     "data": {
      "text/plain": [
       "4476"
      ]
     },
     "execution_count": 56,
     "metadata": {},
     "output_type": "execute_result"
    }
   ],
   "source": [
    "len(df_work.NA_Sales[df_work.NA_Sales == 0])"
   ]
  },
  {
   "cell_type": "code",
   "execution_count": 57,
   "id": "c57f341e-3108-4514-857a-3c4c25063971",
   "metadata": {},
   "outputs": [
    {
     "data": {
      "text/plain": [
       "5712"
      ]
     },
     "execution_count": 57,
     "metadata": {},
     "output_type": "execute_result"
    }
   ],
   "source": [
    "len(df_work.EU_Sales[df_work.EU_Sales == 0])"
   ]
  },
  {
   "cell_type": "code",
   "execution_count": 58,
   "id": "5724cdbb-c2d5-482a-9038-97361085fb97",
   "metadata": {},
   "outputs": [
    {
     "data": {
      "text/plain": [
       "10411"
      ]
     },
     "execution_count": 58,
     "metadata": {},
     "output_type": "execute_result"
    }
   ],
   "source": [
    "len(df_work.JP_Sales[df_work.JP_Sales == 0])"
   ]
  },
  {
   "cell_type": "code",
   "execution_count": 59,
   "id": "21e4bd58-cddf-4e33-9784-3cb363c2825c",
   "metadata": {},
   "outputs": [
    {
     "data": {
      "text/plain": [
       "6433"
      ]
     },
     "execution_count": 59,
     "metadata": {},
     "output_type": "execute_result"
    }
   ],
   "source": [
    "len(df_work.Other_Sales[df_work.Other_Sales == 0])"
   ]
  },
  {
   "cell_type": "markdown",
   "id": "a19ebf40-93ea-4d0e-9ecd-560c74b6373b",
   "metadata": {},
   "source": [
    "# Добавление новых столбцов"
   ]
  },
  {
   "cell_type": "code",
   "execution_count": 60,
   "id": "fe263944-79c4-470f-816f-8352682abdea",
   "metadata": {},
   "outputs": [],
   "source": [
    "def add_sales_bin_col(df_):\n",
    "    df_bin_sales_cols = df_.copy()\n",
    "    region_sales_cols = [\"NA_Sales\", \"EU_Sales\", \"JP_Sales\", \"Other_Sales\"]\n",
    "    \n",
    "    for r in region_sales_cols:\n",
    "        cur_col = \"Are_\" + r\n",
    "        df_bin_sales_cols[cur_col] = df_bin_sales_cols[r].apply(lambda x: True if x > 0 else False)\n",
    "        \n",
    "    return df_bin_sales_cols"
   ]
  },
  {
   "cell_type": "code",
   "execution_count": 61,
   "id": "8a411b1f-1b4e-4c94-89c9-bd9c05c09363",
   "metadata": {},
   "outputs": [],
   "source": [
    "df_work = add_sales_bin_col(df_work)"
   ]
  },
  {
   "cell_type": "code",
   "execution_count": 62,
   "id": "0420bba8-ee09-447f-b01e-e79d402644e9",
   "metadata": {},
   "outputs": [
    {
     "data": {
      "text/html": [
       "<div>\n",
       "<style scoped>\n",
       "    .dataframe tbody tr th:only-of-type {\n",
       "        vertical-align: middle;\n",
       "    }\n",
       "\n",
       "    .dataframe tbody tr th {\n",
       "        vertical-align: top;\n",
       "    }\n",
       "\n",
       "    .dataframe thead th {\n",
       "        text-align: right;\n",
       "    }\n",
       "</style>\n",
       "<table border=\"1\" class=\"dataframe\">\n",
       "  <thead>\n",
       "    <tr style=\"text-align: right;\">\n",
       "      <th></th>\n",
       "      <th>Rank</th>\n",
       "      <th>Platform</th>\n",
       "      <th>Year</th>\n",
       "      <th>Genre</th>\n",
       "      <th>Publisher</th>\n",
       "      <th>NA_Sales</th>\n",
       "      <th>EU_Sales</th>\n",
       "      <th>JP_Sales</th>\n",
       "      <th>Other_Sales</th>\n",
       "      <th>Global_Sales</th>\n",
       "      <th>Are_NA_Sales</th>\n",
       "      <th>Are_EU_Sales</th>\n",
       "      <th>Are_JP_Sales</th>\n",
       "      <th>Are_Other_Sales</th>\n",
       "    </tr>\n",
       "  </thead>\n",
       "  <tbody>\n",
       "    <tr>\n",
       "      <th>0</th>\n",
       "      <td>1</td>\n",
       "      <td>4</td>\n",
       "      <td>2006.0</td>\n",
       "      <td>2</td>\n",
       "      <td>384</td>\n",
       "      <td>41.49</td>\n",
       "      <td>29.02</td>\n",
       "      <td>3.77</td>\n",
       "      <td>8.46</td>\n",
       "      <td>82.74</td>\n",
       "      <td>True</td>\n",
       "      <td>True</td>\n",
       "      <td>True</td>\n",
       "      <td>True</td>\n",
       "    </tr>\n",
       "    <tr>\n",
       "      <th>1</th>\n",
       "      <td>2</td>\n",
       "      <td>11</td>\n",
       "      <td>1985.0</td>\n",
       "      <td>10</td>\n",
       "      <td>384</td>\n",
       "      <td>29.08</td>\n",
       "      <td>3.58</td>\n",
       "      <td>6.81</td>\n",
       "      <td>0.77</td>\n",
       "      <td>40.24</td>\n",
       "      <td>True</td>\n",
       "      <td>True</td>\n",
       "      <td>True</td>\n",
       "      <td>True</td>\n",
       "    </tr>\n",
       "    <tr>\n",
       "      <th>2</th>\n",
       "      <td>3</td>\n",
       "      <td>4</td>\n",
       "      <td>2008.0</td>\n",
       "      <td>9</td>\n",
       "      <td>384</td>\n",
       "      <td>15.85</td>\n",
       "      <td>12.88</td>\n",
       "      <td>3.79</td>\n",
       "      <td>3.31</td>\n",
       "      <td>35.82</td>\n",
       "      <td>True</td>\n",
       "      <td>True</td>\n",
       "      <td>True</td>\n",
       "      <td>True</td>\n",
       "    </tr>\n",
       "    <tr>\n",
       "      <th>3</th>\n",
       "      <td>4</td>\n",
       "      <td>4</td>\n",
       "      <td>2009.0</td>\n",
       "      <td>2</td>\n",
       "      <td>384</td>\n",
       "      <td>15.75</td>\n",
       "      <td>11.01</td>\n",
       "      <td>3.28</td>\n",
       "      <td>2.96</td>\n",
       "      <td>33.00</td>\n",
       "      <td>True</td>\n",
       "      <td>True</td>\n",
       "      <td>True</td>\n",
       "      <td>True</td>\n",
       "    </tr>\n",
       "    <tr>\n",
       "      <th>4</th>\n",
       "      <td>5</td>\n",
       "      <td>20</td>\n",
       "      <td>1996.0</td>\n",
       "      <td>6</td>\n",
       "      <td>384</td>\n",
       "      <td>11.27</td>\n",
       "      <td>8.89</td>\n",
       "      <td>10.22</td>\n",
       "      <td>1.00</td>\n",
       "      <td>31.37</td>\n",
       "      <td>True</td>\n",
       "      <td>True</td>\n",
       "      <td>True</td>\n",
       "      <td>True</td>\n",
       "    </tr>\n",
       "  </tbody>\n",
       "</table>\n",
       "</div>"
      ],
      "text/plain": [
       "   Rank  Platform    Year  Genre  Publisher  NA_Sales  EU_Sales  JP_Sales  \\\n",
       "0     1         4  2006.0      2        384     41.49     29.02      3.77   \n",
       "1     2        11  1985.0     10        384     29.08      3.58      6.81   \n",
       "2     3         4  2008.0      9        384     15.85     12.88      3.79   \n",
       "3     4         4  2009.0      2        384     15.75     11.01      3.28   \n",
       "4     5        20  1996.0      6        384     11.27      8.89     10.22   \n",
       "\n",
       "   Other_Sales  Global_Sales  Are_NA_Sales  Are_EU_Sales  Are_JP_Sales  \\\n",
       "0         8.46         82.74          True          True          True   \n",
       "1         0.77         40.24          True          True          True   \n",
       "2         3.31         35.82          True          True          True   \n",
       "3         2.96         33.00          True          True          True   \n",
       "4         1.00         31.37          True          True          True   \n",
       "\n",
       "   Are_Other_Sales  \n",
       "0             True  \n",
       "1             True  \n",
       "2             True  \n",
       "3             True  \n",
       "4             True  "
      ]
     },
     "execution_count": 62,
     "metadata": {},
     "output_type": "execute_result"
    }
   ],
   "source": [
    "df_work.head()"
   ]
  },
  {
   "cell_type": "markdown",
   "id": "1d62e928-9e8c-4b8f-a6eb-5ce911439849",
   "metadata": {},
   "source": [
    "Отлично. Теперь на основании добавленных данных можно смотреть срез по наличию продаж в разных регионах:"
   ]
  },
  {
   "cell_type": "code",
   "execution_count": 63,
   "id": "a6afbc2a-def1-4239-86e1-d490f66561a1",
   "metadata": {},
   "outputs": [
    {
     "data": {
      "text/plain": [
       "['NA_Sales', 'EU_Sales', 'JP_Sales', 'Other_Sales']"
      ]
     },
     "execution_count": 63,
     "metadata": {},
     "output_type": "execute_result"
    }
   ],
   "source": [
    "[\"NA_Sales\", \"EU_Sales\", \"JP_Sales\", \"Other_Sales\"]"
   ]
  },
  {
   "cell_type": "code",
   "execution_count": 64,
   "id": "6cca5489-a171-425c-b86e-02b88b8248d7",
   "metadata": {},
   "outputs": [],
   "source": [
    "df_work_NA = df_work[df_work.Are_NA_Sales == True]\n",
    "df_work_EU = df_work[df_work.Are_EU_Sales == True]\n",
    "df_work_JP = df_work[df_work.Are_JP_Sales == True]\n",
    "df_work_Other = df_work[df_work.Are_Other_Sales == True]"
   ]
  },
  {
   "cell_type": "code",
   "execution_count": 65,
   "id": "1818ca72-e8f0-4040-a8ac-926271d5ec23",
   "metadata": {},
   "outputs": [
    {
     "data": {
      "text/html": [
       "<div>\n",
       "<style scoped>\n",
       "    .dataframe tbody tr th:only-of-type {\n",
       "        vertical-align: middle;\n",
       "    }\n",
       "\n",
       "    .dataframe tbody tr th {\n",
       "        vertical-align: top;\n",
       "    }\n",
       "\n",
       "    .dataframe thead th {\n",
       "        text-align: right;\n",
       "    }\n",
       "</style>\n",
       "<table border=\"1\" class=\"dataframe\">\n",
       "  <thead>\n",
       "    <tr style=\"text-align: right;\">\n",
       "      <th></th>\n",
       "      <th>Rank</th>\n",
       "      <th>Platform</th>\n",
       "      <th>Year</th>\n",
       "      <th>Genre</th>\n",
       "      <th>Publisher</th>\n",
       "      <th>NA_Sales</th>\n",
       "      <th>EU_Sales</th>\n",
       "      <th>JP_Sales</th>\n",
       "      <th>Other_Sales</th>\n",
       "      <th>Global_Sales</th>\n",
       "      <th>Are_NA_Sales</th>\n",
       "      <th>Are_EU_Sales</th>\n",
       "      <th>Are_JP_Sales</th>\n",
       "      <th>Are_Other_Sales</th>\n",
       "    </tr>\n",
       "  </thead>\n",
       "  <tbody>\n",
       "    <tr>\n",
       "      <th>0</th>\n",
       "      <td>1</td>\n",
       "      <td>4</td>\n",
       "      <td>2006.0</td>\n",
       "      <td>2</td>\n",
       "      <td>384</td>\n",
       "      <td>41.49</td>\n",
       "      <td>29.02</td>\n",
       "      <td>3.77</td>\n",
       "      <td>8.46</td>\n",
       "      <td>82.74</td>\n",
       "      <td>True</td>\n",
       "      <td>True</td>\n",
       "      <td>True</td>\n",
       "      <td>True</td>\n",
       "    </tr>\n",
       "    <tr>\n",
       "      <th>1</th>\n",
       "      <td>2</td>\n",
       "      <td>11</td>\n",
       "      <td>1985.0</td>\n",
       "      <td>10</td>\n",
       "      <td>384</td>\n",
       "      <td>29.08</td>\n",
       "      <td>3.58</td>\n",
       "      <td>6.81</td>\n",
       "      <td>0.77</td>\n",
       "      <td>40.24</td>\n",
       "      <td>True</td>\n",
       "      <td>True</td>\n",
       "      <td>True</td>\n",
       "      <td>True</td>\n",
       "    </tr>\n",
       "    <tr>\n",
       "      <th>2</th>\n",
       "      <td>3</td>\n",
       "      <td>4</td>\n",
       "      <td>2008.0</td>\n",
       "      <td>9</td>\n",
       "      <td>384</td>\n",
       "      <td>15.85</td>\n",
       "      <td>12.88</td>\n",
       "      <td>3.79</td>\n",
       "      <td>3.31</td>\n",
       "      <td>35.82</td>\n",
       "      <td>True</td>\n",
       "      <td>True</td>\n",
       "      <td>True</td>\n",
       "      <td>True</td>\n",
       "    </tr>\n",
       "    <tr>\n",
       "      <th>3</th>\n",
       "      <td>4</td>\n",
       "      <td>4</td>\n",
       "      <td>2009.0</td>\n",
       "      <td>2</td>\n",
       "      <td>384</td>\n",
       "      <td>15.75</td>\n",
       "      <td>11.01</td>\n",
       "      <td>3.28</td>\n",
       "      <td>2.96</td>\n",
       "      <td>33.00</td>\n",
       "      <td>True</td>\n",
       "      <td>True</td>\n",
       "      <td>True</td>\n",
       "      <td>True</td>\n",
       "    </tr>\n",
       "    <tr>\n",
       "      <th>4</th>\n",
       "      <td>5</td>\n",
       "      <td>20</td>\n",
       "      <td>1996.0</td>\n",
       "      <td>6</td>\n",
       "      <td>384</td>\n",
       "      <td>11.27</td>\n",
       "      <td>8.89</td>\n",
       "      <td>10.22</td>\n",
       "      <td>1.00</td>\n",
       "      <td>31.37</td>\n",
       "      <td>True</td>\n",
       "      <td>True</td>\n",
       "      <td>True</td>\n",
       "      <td>True</td>\n",
       "    </tr>\n",
       "  </tbody>\n",
       "</table>\n",
       "</div>"
      ],
      "text/plain": [
       "   Rank  Platform    Year  Genre  Publisher  NA_Sales  EU_Sales  JP_Sales  \\\n",
       "0     1         4  2006.0      2        384     41.49     29.02      3.77   \n",
       "1     2        11  1985.0     10        384     29.08      3.58      6.81   \n",
       "2     3         4  2008.0      9        384     15.85     12.88      3.79   \n",
       "3     4         4  2009.0      2        384     15.75     11.01      3.28   \n",
       "4     5        20  1996.0      6        384     11.27      8.89     10.22   \n",
       "\n",
       "   Other_Sales  Global_Sales  Are_NA_Sales  Are_EU_Sales  Are_JP_Sales  \\\n",
       "0         8.46         82.74          True          True          True   \n",
       "1         0.77         40.24          True          True          True   \n",
       "2         3.31         35.82          True          True          True   \n",
       "3         2.96         33.00          True          True          True   \n",
       "4         1.00         31.37          True          True          True   \n",
       "\n",
       "   Are_Other_Sales  \n",
       "0             True  \n",
       "1             True  \n",
       "2             True  \n",
       "3             True  \n",
       "4             True  "
      ]
     },
     "execution_count": 65,
     "metadata": {},
     "output_type": "execute_result"
    }
   ],
   "source": [
    "df_work_EU.head()"
   ]
  },
  {
   "cell_type": "markdown",
   "id": "7af9bf06-fc03-4fe2-a447-bb5888260ac8",
   "metadata": {},
   "source": [
    "Теперь нужно что-то сделать со столбцом глобальных продаж, так как он является хорошим признаком, который можно прогнозировать, но его распределение слишком неравномерное:"
   ]
  },
  {
   "cell_type": "code",
   "execution_count": 66,
   "id": "3002bf8c-895b-497c-91da-1ef840302661",
   "metadata": {},
   "outputs": [
    {
     "data": {
      "text/plain": [
       "<Axes: xlabel='Global_Sales', ylabel='Count'>"
      ]
     },
     "execution_count": 66,
     "metadata": {},
     "output_type": "execute_result"
    },
    {
     "data": {
      "image/png": "[encoded data removed]",
      "text/plain": [
       "<Figure size 640x480 with 1 Axes>"
      ]
     },
     "metadata": {},
     "output_type": "display_data"
    }
   ],
   "source": [
    "sns.histplot(df_work[\"Global_Sales\"])"
   ]
  },
  {
   "cell_type": "code",
   "execution_count": 67,
   "id": "96781539-7e54-4e57-ad61-836d9dfe9e42",
   "metadata": {},
   "outputs": [],
   "source": [
    "log_Global_Sales = np.log1p(df_work[\"Global_Sales\"])"
   ]
  },
  {
   "cell_type": "code",
   "execution_count": 68,
   "id": "3e492a15-6dab-4358-9ce9-58b56dabc41e",
   "metadata": {},
   "outputs": [
    {
     "data": {
      "text/plain": [
       "<Axes: xlabel='Global_Sales', ylabel='Count'>"
      ]
     },
     "execution_count": 68,
     "metadata": {},
     "output_type": "execute_result"
    },
    {
     "data": {
      "image/png": "[encoded data removed]",
      "text/plain": [
       "<Figure size 640x480 with 1 Axes>"
      ]
     },
     "metadata": {},
     "output_type": "display_data"
    }
   ],
   "source": [
    "sns.histplot(log_Global_Sales)"
   ]
  },
  {
   "cell_type": "markdown",
   "id": "e5ab9355-6312-4649-a7bd-fd12559140ba",
   "metadata": {},
   "source": [
    "После логарифмирования заметен long tail, а также выбросы"
   ]
  },
  {
   "cell_type": "code",
   "execution_count": 69,
   "id": "3123720e-9ccc-4e79-83c8-21bac28111c6",
   "metadata": {},
   "outputs": [],
   "source": [
    "def del_outliers(column_):\n",
    "    Q1 = column_.quantile(0.25)\n",
    "    Q3 = column_.quantile(0.75)\n",
    "    IQR = Q3 - Q1\n",
    "    \n",
    "    no_otls_col = column_[(column_ >= Q1 - 1.5 * IQR) &\n",
    "                                    (column_ <= Q3 + 1.5 * IQR)]\n",
    "    return no_otls_col"
   ]
  },
  {
   "cell_type": "code",
   "execution_count": 70,
   "id": "984700f5-8eb4-4d72-b535-f6c9ff69ccb8",
   "metadata": {},
   "outputs": [],
   "source": [
    "no_otls_log_Global_Sales = del_outliers(log_Global_Sales)"
   ]
  },
  {
   "cell_type": "code",
   "execution_count": 71,
   "id": "056d5ebe-4612-4e67-8448-bef22e79ac07",
   "metadata": {},
   "outputs": [
    {
     "data": {
      "text/plain": [
       "15210"
      ]
     },
     "execution_count": 71,
     "metadata": {},
     "output_type": "execute_result"
    }
   ],
   "source": [
    "len(no_otls_log_Global_Sales)"
   ]
  },
  {
   "cell_type": "code",
   "execution_count": 72,
   "id": "42dc3cdc-4e9a-4f8e-8c1b-ad7a58d7dc9e",
   "metadata": {},
   "outputs": [
    {
     "data": {
      "text/plain": [
       "<Axes: xlabel='Global_Sales', ylabel='Count'>"
      ]
     },
     "execution_count": 72,
     "metadata": {},
     "output_type": "execute_result"
    },
    {
     "data": {
      "image/png": "[encoded data removed]",
      "text/plain": [
       "<Figure size 640x480 with 1 Axes>"
      ]
     },
     "metadata": {},
     "output_type": "display_data"
    }
   ],
   "source": [
    "sns.histplot(no_otls_log_Global_Sales)"
   ]
  },
  {
   "cell_type": "markdown",
   "id": "7200c5f6-0da8-4c9a-a5e2-63d0e411fd6e",
   "metadata": {},
   "source": [
    "Такое распределение выглядит лучше.  \n",
    "Теперь нужно логарифмировать все колонки продаж, удалить в них выбросы, а затем объединить в итоговый набор данных"
   ]
  },
  {
   "cell_type": "code",
   "execution_count": 73,
   "id": "675a2fc2-bc18-4735-a4d2-f351e70d0ffd",
   "metadata": {},
   "outputs": [],
   "source": [
    "sales_cols = [\"NA_Sales\", \"EU_Sales\", \"JP_Sales\", \"Other_Sales\", \"Global_Sales\"]\n",
    "\n",
    "for col in sales_cols:\n",
    "    df_work[col] = np.log1p(df_work[col])"
   ]
  },
  {
   "cell_type": "markdown",
   "id": "ee6a416c-ee38-4f5f-9c40-568d52981995",
   "metadata": {},
   "source": [
    "Понадобится несколько иная функция удаления выбросов, которая возвращает столбец с True или False, чтобы понимать, какие записи удалять:"
   ]
  },
  {
   "cell_type": "code",
   "execution_count": 74,
   "id": "eec8e438-9c7f-4791-8a37-291e7d473c30",
   "metadata": {},
   "outputs": [],
   "source": [
    "def get_lines_to_del(column):\n",
    "    Q1 = np.percentile(column, 25)\n",
    "    Q3 = np.percentile(column, 75)\n",
    "    IQR = Q3 - Q1\n",
    "    lower_bound = Q1 - 1.5 * IQR\n",
    "    upper_bound = Q3 + 1.5 * IQR\n",
    "    return (column >= lower_bound) & (column <= upper_bound)"
   ]
  },
  {
   "cell_type": "code",
   "execution_count": 75,
   "id": "a6f550f2-873d-45f2-b42f-2410060db9f8",
   "metadata": {},
   "outputs": [],
   "source": [
    "clear_sales = df_work[sales_cols].apply(get_lines_to_del)"
   ]
  },
  {
   "cell_type": "code",
   "execution_count": 76,
   "id": "e2e08e77-ac11-4fd2-ae0f-c3daae07e0ae",
   "metadata": {},
   "outputs": [
    {
     "data": {
      "text/plain": [
       "NA_Sales        0\n",
       "EU_Sales        0\n",
       "JP_Sales        0\n",
       "Other_Sales     0\n",
       "Global_Sales    0\n",
       "dtype: int64"
      ]
     },
     "execution_count": 76,
     "metadata": {},
     "output_type": "execute_result"
    }
   ],
   "source": [
    "clear_sales.isna().sum()"
   ]
  },
  {
   "cell_type": "code",
   "execution_count": 77,
   "id": "82fd71fc-f4de-4473-974e-3eb0565f65c2",
   "metadata": {},
   "outputs": [],
   "source": [
    "common_idxs = clear_sales.all(axis=1)"
   ]
  },
  {
   "cell_type": "code",
   "execution_count": 78,
   "id": "5d09da33-1642-402e-b62f-da621d3a21e2",
   "metadata": {},
   "outputs": [],
   "source": [
    "df_work_clear = df_work[common_idxs]"
   ]
  },
  {
   "cell_type": "code",
   "execution_count": 79,
   "id": "51d0d43a-4b15-492e-844e-52e2df9f8b09",
   "metadata": {},
   "outputs": [
    {
     "data": {
      "text/plain": [
       "12128"
      ]
     },
     "execution_count": 79,
     "metadata": {},
     "output_type": "execute_result"
    }
   ],
   "source": [
    "len(df_work_clear)"
   ]
  },
  {
   "cell_type": "markdown",
   "id": "913ca6ee-e1dc-42f8-b509-ead2bca265cf",
   "metadata": {},
   "source": [
    "Теперь можно не переживать насчёт количества выбросов и неправильного распределения"
   ]
  },
  {
   "cell_type": "markdown",
   "id": "375c2efd-aedd-4bac-b6f4-f5a62c1eeb04",
   "metadata": {},
   "source": [
    "Можно заменить колонку с годом на разницу с числом 2023, чтобы числа столбца были сопоставимы с другими:"
   ]
  },
  {
   "cell_type": "code",
   "execution_count": 80,
   "id": "be80b252-5ae9-43a8-8e14-af8b957325a8",
   "metadata": {},
   "outputs": [],
   "source": [
    "df_work_clear.Year =  2023 - df_work_clear.Year"
   ]
  },
  {
   "cell_type": "code",
   "execution_count": 81,
   "id": "972255a3-08f8-42df-a2bd-e0b9c5a2abe2",
   "metadata": {},
   "outputs": [
    {
     "data": {
      "text/html": [
       "<div>\n",
       "<style scoped>\n",
       "    .dataframe tbody tr th:only-of-type {\n",
       "        vertical-align: middle;\n",
       "    }\n",
       "\n",
       "    .dataframe tbody tr th {\n",
       "        vertical-align: top;\n",
       "    }\n",
       "\n",
       "    .dataframe thead th {\n",
       "        text-align: right;\n",
       "    }\n",
       "</style>\n",
       "<table border=\"1\" class=\"dataframe\">\n",
       "  <thead>\n",
       "    <tr style=\"text-align: right;\">\n",
       "      <th></th>\n",
       "      <th>Rank</th>\n",
       "      <th>Platform</th>\n",
       "      <th>Year</th>\n",
       "      <th>Genre</th>\n",
       "      <th>Publisher</th>\n",
       "      <th>NA_Sales</th>\n",
       "      <th>EU_Sales</th>\n",
       "      <th>JP_Sales</th>\n",
       "      <th>Other_Sales</th>\n",
       "      <th>Global_Sales</th>\n",
       "      <th>Are_NA_Sales</th>\n",
       "      <th>Are_EU_Sales</th>\n",
       "      <th>Are_JP_Sales</th>\n",
       "      <th>Are_Other_Sales</th>\n",
       "    </tr>\n",
       "  </thead>\n",
       "  <tbody>\n",
       "    <tr>\n",
       "      <th>1942</th>\n",
       "      <td>1944</td>\n",
       "      <td>6</td>\n",
       "      <td>13.0</td>\n",
       "      <td>5</td>\n",
       "      <td>71</td>\n",
       "      <td>0.512824</td>\n",
       "      <td>0.254642</td>\n",
       "      <td>0.009950</td>\n",
       "      <td>0.095310</td>\n",
       "      <td>0.722706</td>\n",
       "      <td>True</td>\n",
       "      <td>True</td>\n",
       "      <td>True</td>\n",
       "      <td>True</td>\n",
       "    </tr>\n",
       "    <tr>\n",
       "      <th>2008</th>\n",
       "      <td>2010</td>\n",
       "      <td>18</td>\n",
       "      <td>13.0</td>\n",
       "      <td>8</td>\n",
       "      <td>48</td>\n",
       "      <td>0.518794</td>\n",
       "      <td>0.239017</td>\n",
       "      <td>0.000000</td>\n",
       "      <td>0.086178</td>\n",
       "      <td>0.712950</td>\n",
       "      <td>True</td>\n",
       "      <td>True</td>\n",
       "      <td>False</td>\n",
       "      <td>True</td>\n",
       "    </tr>\n",
       "    <tr>\n",
       "      <th>2045</th>\n",
       "      <td>2047</td>\n",
       "      <td>6</td>\n",
       "      <td>15.0</td>\n",
       "      <td>5</td>\n",
       "      <td>327</td>\n",
       "      <td>0.500775</td>\n",
       "      <td>0.198851</td>\n",
       "      <td>0.048790</td>\n",
       "      <td>0.095310</td>\n",
       "      <td>0.698135</td>\n",
       "      <td>True</td>\n",
       "      <td>True</td>\n",
       "      <td>True</td>\n",
       "      <td>True</td>\n",
       "    </tr>\n",
       "    <tr>\n",
       "      <th>2062</th>\n",
       "      <td>2064</td>\n",
       "      <td>20</td>\n",
       "      <td>26.0</td>\n",
       "      <td>3</td>\n",
       "      <td>384</td>\n",
       "      <td>0.488580</td>\n",
       "      <td>0.223144</td>\n",
       "      <td>0.086178</td>\n",
       "      <td>0.029559</td>\n",
       "      <td>0.693147</td>\n",
       "      <td>True</td>\n",
       "      <td>True</td>\n",
       "      <td>True</td>\n",
       "      <td>True</td>\n",
       "    </tr>\n",
       "    <tr>\n",
       "      <th>2078</th>\n",
       "      <td>2080</td>\n",
       "      <td>6</td>\n",
       "      <td>12.0</td>\n",
       "      <td>6</td>\n",
       "      <td>276</td>\n",
       "      <td>0.494696</td>\n",
       "      <td>0.246860</td>\n",
       "      <td>0.000000</td>\n",
       "      <td>0.076961</td>\n",
       "      <td>0.693147</td>\n",
       "      <td>True</td>\n",
       "      <td>True</td>\n",
       "      <td>False</td>\n",
       "      <td>True</td>\n",
       "    </tr>\n",
       "  </tbody>\n",
       "</table>\n",
       "</div>"
      ],
      "text/plain": [
       "      Rank  Platform  Year  Genre  Publisher  NA_Sales  EU_Sales  JP_Sales  \\\n",
       "1942  1944         6  13.0      5         71  0.512824  0.254642  0.009950   \n",
       "2008  2010        18  13.0      8         48  0.518794  0.239017  0.000000   \n",
       "2045  2047         6  15.0      5        327  0.500775  0.198851  0.048790   \n",
       "2062  2064        20  26.0      3        384  0.488580  0.223144  0.086178   \n",
       "2078  2080         6  12.0      6        276  0.494696  0.246860  0.000000   \n",
       "\n",
       "      Other_Sales  Global_Sales  Are_NA_Sales  Are_EU_Sales  Are_JP_Sales  \\\n",
       "1942     0.095310      0.722706          True          True          True   \n",
       "2008     0.086178      0.712950          True          True         False   \n",
       "2045     0.095310      0.698135          True          True          True   \n",
       "2062     0.029559      0.693147          True          True          True   \n",
       "2078     0.076961      0.693147          True          True         False   \n",
       "\n",
       "      Are_Other_Sales  \n",
       "1942             True  \n",
       "2008             True  \n",
       "2045             True  \n",
       "2062             True  \n",
       "2078             True  "
      ]
     },
     "execution_count": 81,
     "metadata": {},
     "output_type": "execute_result"
    }
   ],
   "source": [
    "df_work_clear.head()"
   ]
  },
  {
   "cell_type": "markdown",
   "id": "a184e85b-f118-4e85-b912-f5efeaec41ad",
   "metadata": {},
   "source": [
    "Итоговая тепловая карта корреляции:"
   ]
  },
  {
   "cell_type": "code",
   "execution_count": 82,
   "id": "56a5a683-69f0-48cb-ba1d-60ba6a752a80",
   "metadata": {},
   "outputs": [
    {
     "data": {
      "text/plain": [
       "<Axes: >"
      ]
     },
     "execution_count": 82,
     "metadata": {},
     "output_type": "execute_result"
    },
    {
     "data": {
      "image/png": "[encoded data removed]",
      "text/plain": [
       "<Figure size 640x480 with 2 Axes>"
      ]
     },
     "metadata": {},
     "output_type": "display_data"
    }
   ],
   "source": [
    "upper_matrix = np.triu(df_work_clear.corr())\n",
    "sns.heatmap(df_work_clear.corr(), annot=True, mask=upper_matrix)"
   ]
  },
  {
   "cell_type": "markdown",
   "id": "32f0f2cc-7155-4038-81c2-b3203eae097d",
   "metadata": {},
   "source": [
    "Так как в качестве целевой переменной для предсказания выбран столбец Global_Sales, нужно посмотреть корреляцию остальных столбцов с ним и, возможно, удалить те, корреляция которых близка к нулю:"
   ]
  },
  {
   "cell_type": "code",
   "execution_count": 83,
   "id": "c57c708f-ac5b-4079-87ab-73aaf8bc828b",
   "metadata": {},
   "outputs": [
    {
     "data": {
      "text/plain": [
       "Rank              -0.934581\n",
       "Are_JP_Sales      -0.218990\n",
       "Platform          -0.195793\n",
       "Genre             -0.149566\n",
       "JP_Sales          -0.140058\n",
       "Publisher         -0.061537\n",
       "Year               0.129635\n",
       "Are_EU_Sales       0.404444\n",
       "Are_NA_Sales       0.451720\n",
       "Are_Other_Sales    0.601801\n",
       "EU_Sales           0.755266\n",
       "Other_Sales        0.795925\n",
       "NA_Sales           0.930541\n",
       "Name: Global_Sales, dtype: float64"
      ]
     },
     "execution_count": 83,
     "metadata": {},
     "output_type": "execute_result"
    }
   ],
   "source": [
    "df_work_clear.corr()[\"Global_Sales\"].drop([\"Global_Sales\"], axis=0).sort_values()"
   ]
  },
  {
   "cell_type": "markdown",
   "id": "156a96d8-55fb-413d-a948-39f4a134d03c",
   "metadata": {},
   "source": [
    "Наименьшая корреляция наблюдается у издателя, но она не настолько мала, чтобы её удалять"
   ]
  },
  {
   "cell_type": "markdown",
   "id": "7a515069-836a-430b-8a18-d63391160075",
   "metadata": {},
   "source": [
    "Но что точно необходимо удалить, так это: ранг и всю информацию о продажах. Это необходимо, так как на новых данных, например, если хочется узнать ожидаемые мировые продажи, такой информации не будет. Скорее всего, будут доступны только: платформа, жанр, издатель и год выпуска.  \n",
    "\n",
    "Удаление столбцов не означает, что они бесполезны. Итоговый очищенный датасет df_work_clear полезен для анализа обработанных данных, а также позволяет построить модели прогнозирования не по одному столбцу с глобальными продажами, а сразу по 10. Значит, датасет очень даже полезен.  \n",
    "\n",
    "Но дальше я обучу модель для предсказания именно мировых продаж, а значит, удалю остальные столбцы с метаданными:"
   ]
  },
  {
   "cell_type": "code",
   "execution_count": 84,
   "id": "11af23d5-f632-45ba-81e0-6d86fb3bac7b",
   "metadata": {},
   "outputs": [],
   "source": [
    "leak_columns = [\"Rank\", \"NA_Sales\", \"EU_Sales\", \"JP_Sales\", \"Other_Sales\", \"Are_NA_Sales\", \"Are_EU_Sales\", \"Are_JP_Sales\", \"Are_Other_Sales\"]"
   ]
  },
  {
   "cell_type": "code",
   "execution_count": 85,
   "id": "5ffde94d-a8a8-47cb-bd5a-2ff23bc64e1e",
   "metadata": {},
   "outputs": [],
   "source": [
    "df_final = df_work_clear.drop(leak_columns, axis=1)"
   ]
  },
  {
   "cell_type": "code",
   "execution_count": 86,
   "id": "4bf5b24c-8d62-44f5-af6e-7a6ea6b1aeee",
   "metadata": {},
   "outputs": [
    {
     "data": {
      "text/html": [
       "<div>\n",
       "<style scoped>\n",
       "    .dataframe tbody tr th:only-of-type {\n",
       "        vertical-align: middle;\n",
       "    }\n",
       "\n",
       "    .dataframe tbody tr th {\n",
       "        vertical-align: top;\n",
       "    }\n",
       "\n",
       "    .dataframe thead th {\n",
       "        text-align: right;\n",
       "    }\n",
       "</style>\n",
       "<table border=\"1\" class=\"dataframe\">\n",
       "  <thead>\n",
       "    <tr style=\"text-align: right;\">\n",
       "      <th></th>\n",
       "      <th>Platform</th>\n",
       "      <th>Year</th>\n",
       "      <th>Genre</th>\n",
       "      <th>Publisher</th>\n",
       "      <th>Global_Sales</th>\n",
       "    </tr>\n",
       "  </thead>\n",
       "  <tbody>\n",
       "    <tr>\n",
       "      <th>1942</th>\n",
       "      <td>6</td>\n",
       "      <td>13.0</td>\n",
       "      <td>5</td>\n",
       "      <td>71</td>\n",
       "      <td>0.722706</td>\n",
       "    </tr>\n",
       "    <tr>\n",
       "      <th>2008</th>\n",
       "      <td>18</td>\n",
       "      <td>13.0</td>\n",
       "      <td>8</td>\n",
       "      <td>48</td>\n",
       "      <td>0.712950</td>\n",
       "    </tr>\n",
       "    <tr>\n",
       "      <th>2045</th>\n",
       "      <td>6</td>\n",
       "      <td>15.0</td>\n",
       "      <td>5</td>\n",
       "      <td>327</td>\n",
       "      <td>0.698135</td>\n",
       "    </tr>\n",
       "    <tr>\n",
       "      <th>2062</th>\n",
       "      <td>20</td>\n",
       "      <td>26.0</td>\n",
       "      <td>3</td>\n",
       "      <td>384</td>\n",
       "      <td>0.693147</td>\n",
       "    </tr>\n",
       "    <tr>\n",
       "      <th>2078</th>\n",
       "      <td>6</td>\n",
       "      <td>12.0</td>\n",
       "      <td>6</td>\n",
       "      <td>276</td>\n",
       "      <td>0.693147</td>\n",
       "    </tr>\n",
       "  </tbody>\n",
       "</table>\n",
       "</div>"
      ],
      "text/plain": [
       "      Platform  Year  Genre  Publisher  Global_Sales\n",
       "1942         6  13.0      5         71      0.722706\n",
       "2008        18  13.0      8         48      0.712950\n",
       "2045         6  15.0      5        327      0.698135\n",
       "2062        20  26.0      3        384      0.693147\n",
       "2078         6  12.0      6        276      0.693147"
      ]
     },
     "execution_count": 86,
     "metadata": {},
     "output_type": "execute_result"
    }
   ],
   "source": [
    "df_final.head()"
   ]
  },
  {
   "cell_type": "markdown",
   "id": "f5a81305-bb33-4bbe-ae36-3894e4639f96",
   "metadata": {},
   "source": [
    "На данном этапе работа завершена"
   ]
  },
  {
   "cell_type": "markdown",
   "id": "9b382bd0-fe86-41b5-b963-69ee7e2ed647",
   "metadata": {},
   "source": [
    "# Гипотезы"
   ]
  },
  {
   "cell_type": "markdown",
   "id": "7954d0ac-215f-4409-9a92-b1896d64566b",
   "metadata": {},
   "source": [
    "Как было замечено ранее, так как столбцы с продажами имеют смещение, необходимо использовать те алгоритмы прогнозирования, которые умеют работать со смещением. Я проверю 3: случайный лес, регрессию Лассо и Эластичную сеть из библиотеки sklearn. После сравню результаты и выберу лучшую.  \n",
    "\n",
    "Но сначала нужно разделить датасет на тренировочные и тестовые данные, чтобы была возможность измерить точность:"
   ]
  },
  {
   "cell_type": "code",
   "execution_count": 87,
   "id": "6b464009-9eff-4994-81c4-7959ea2ee0c6",
   "metadata": {},
   "outputs": [],
   "source": [
    "X = df_final.drop([\"Global_Sales\"], axis=1)\n",
    "y = df_final[\"Global_Sales\"]"
   ]
  },
  {
   "cell_type": "code",
   "execution_count": 88,
   "id": "9cce8797-7bd3-473c-b961-ebf90c80b6c8",
   "metadata": {},
   "outputs": [],
   "source": [
    "X_train, X_test, y_train, y_test = train_test_split(X, y, train_size=0.7)"
   ]
  },
  {
   "cell_type": "code",
   "execution_count": 89,
   "id": "a3aa165f-6325-43f8-9b4d-bc6881f2c829",
   "metadata": {},
   "outputs": [
    {
     "data": {
      "text/plain": [
       "(8489, 4)"
      ]
     },
     "execution_count": 89,
     "metadata": {},
     "output_type": "execute_result"
    }
   ],
   "source": [
    "X_train.shape"
   ]
  },
  {
   "cell_type": "code",
   "execution_count": 90,
   "id": "990bac2d-f762-4e68-9d8d-0f10c501bd55",
   "metadata": {},
   "outputs": [
    {
     "data": {
      "text/plain": [
       "(3639, 4)"
      ]
     },
     "execution_count": 90,
     "metadata": {},
     "output_type": "execute_result"
    }
   ],
   "source": [
    "X_test.shape"
   ]
  },
  {
   "cell_type": "code",
   "execution_count": 91,
   "id": "44187691-3706-4f67-8f0f-a2067c6f179d",
   "metadata": {},
   "outputs": [],
   "source": [
    "models = [RandomForestRegressor(n_estimators=200, random_state=0),\n",
    "          Lasso(alpha=0.01),\n",
    "          ElasticNet(alpha=0.01, l1_ratio=0.5)]"
   ]
  },
  {
   "cell_type": "code",
   "execution_count": 92,
   "id": "fca3ff29-578f-4ce9-8dc5-ea715059a7c9",
   "metadata": {},
   "outputs": [
    {
     "name": "stdout",
     "output_type": "stream",
     "text": [
      "Алгоритм:  RandomForestRegressor(n_estimators=200, random_state=0)\n",
      "Ошибка:  0.09463200186237351\n",
      "Алгоритм:  Lasso(alpha=0.01)\n",
      "Ошибка:  0.10450235299314944\n",
      "Алгоритм:  ElasticNet(alpha=0.01)\n",
      "Ошибка:  0.10435031942931161\n"
     ]
    }
   ],
   "source": [
    "for model in models:\n",
    "    print(\"Алгоритм: \", model)\n",
    "    model.fit(X_train, y_train)\n",
    "    y_pred = model.predict(X_test)\n",
    "    print(\"Ошибка: \", mean_absolute_error(y_pred, y_test))"
   ]
  },
  {
   "cell_type": "markdown",
   "id": "561a1573-58bd-4f78-8501-9a68b8224df3",
   "metadata": {},
   "source": [
    "Наименьшая ошибка оказалась у алгоритма случайного леса. Можно попробовать оптимизировать его параметры. Для этого я воспользуюсь GridSearchCV. Этот алгоритм позволяет перебрать комбинации параметров, сравнить результат с помощью кросс-валидации и получить лучшую модель"
   ]
  },
  {
   "cell_type": "code",
   "execution_count": 93,
   "id": "f59c6409-f15a-4a47-8f10-28f230c67e1f",
   "metadata": {},
   "outputs": [],
   "source": [
    "params_grid = {'n_estimators': [50, 100, 200, 250, 300],\n",
    "               'max_depth': [None, 10, 20, 30, 50],\n",
    "               'min_samples_split': [2, 3, 4, 5, 10, 15]\n",
    "              }"
   ]
  },
  {
   "cell_type": "code",
   "execution_count": 94,
   "id": "3f045910-7448-4c30-ae36-a6e38d6f04d2",
   "metadata": {},
   "outputs": [
    {
     "data": {
      "text/html": [
       "<style>#sk-container-id-1 {color: black;}#sk-container-id-1 pre{padding: 0;}#sk-container-id-1 div.sk-toggleable {background-color: white;}#sk-container-id-1 label.sk-toggleable__label {cursor: pointer;display: block;width: 100%;margin-bottom: 0;padding: 0.3em;box-sizing: border-box;text-align: center;}#sk-container-id-1 label.sk-toggleable__label-arrow:before {content: \"▸\";float: left;margin-right: 0.25em;color: #696969;}#sk-container-id-1 label.sk-toggleable__label-arrow:hover:before {color: black;}#sk-container-id-1 div.sk-estimator:hover label.sk-toggleable__label-arrow:before {color: black;}#sk-container-id-1 div.sk-toggleable__content {max-height: 0;max-width: 0;overflow: hidden;text-align: left;background-color: #f0f8ff;}#sk-container-id-1 div.sk-toggleable__content pre {margin: 0.2em;color: black;border-radius: 0.25em;background-color: #f0f8ff;}#sk-container-id-1 input.sk-toggleable__control:checked~div.sk-toggleable__content {max-height: 200px;max-width: 100%;overflow: auto;}#sk-container-id-1 input.sk-toggleable__control:checked~label.sk-toggleable__label-arrow:before {content: \"▾\";}#sk-container-id-1 div.sk-estimator input.sk-toggleable__control:checked~label.sk-toggleable__label {background-color: #d4ebff;}#sk-container-id-1 div.sk-label input.sk-toggleable__control:checked~label.sk-toggleable__label {background-color: #d4ebff;}#sk-container-id-1 input.sk-hidden--visually {border: 0;clip: rect(1px 1px 1px 1px);clip: rect(1px, 1px, 1px, 1px);height: 1px;margin: -1px;overflow: hidden;padding: 0;position: absolute;width: 1px;}#sk-container-id-1 div.sk-estimator {font-family: monospace;background-color: #f0f8ff;border: 1px dotted black;border-radius: 0.25em;box-sizing: border-box;margin-bottom: 0.5em;}#sk-container-id-1 div.sk-estimator:hover {background-color: #d4ebff;}#sk-container-id-1 div.sk-parallel-item::after {content: \"\";width: 100%;border-bottom: 1px solid gray;flex-grow: 1;}#sk-container-id-1 div.sk-label:hover label.sk-toggleable__label {background-color: #d4ebff;}#sk-container-id-1 div.sk-serial::before {content: \"\";position: absolute;border-left: 1px solid gray;box-sizing: border-box;top: 0;bottom: 0;left: 50%;z-index: 0;}#sk-container-id-1 div.sk-serial {display: flex;flex-direction: column;align-items: center;background-color: white;padding-right: 0.2em;padding-left: 0.2em;position: relative;}#sk-container-id-1 div.sk-item {position: relative;z-index: 1;}#sk-container-id-1 div.sk-parallel {display: flex;align-items: stretch;justify-content: center;background-color: white;position: relative;}#sk-container-id-1 div.sk-item::before, #sk-container-id-1 div.sk-parallel-item::before {content: \"\";position: absolute;border-left: 1px solid gray;box-sizing: border-box;top: 0;bottom: 0;left: 50%;z-index: -1;}#sk-container-id-1 div.sk-parallel-item {display: flex;flex-direction: column;z-index: 1;position: relative;background-color: white;}#sk-container-id-1 div.sk-parallel-item:first-child::after {align-self: flex-end;width: 50%;}#sk-container-id-1 div.sk-parallel-item:last-child::after {align-self: flex-start;width: 50%;}#sk-container-id-1 div.sk-parallel-item:only-child::after {width: 0;}#sk-container-id-1 div.sk-dashed-wrapped {border: 1px dashed gray;margin: 0 0.4em 0.5em 0.4em;box-sizing: border-box;padding-bottom: 0.4em;background-color: white;}#sk-container-id-1 div.sk-label label {font-family: monospace;font-weight: bold;display: inline-block;line-height: 1.2em;}#sk-container-id-1 div.sk-label-container {text-align: center;}#sk-container-id-1 div.sk-container {/* jupyter's `normalize.less` sets `[hidden] { display: none; }` but bootstrap.min.css set `[hidden] { display: none !important; }` so we also need the `!important` here to be able to override the default hidden behavior on the sphinx rendered scikit-learn.org. See: https://github.com/scikit-learn/scikit-learn/issues/21755 */display: inline-block !important;position: relative;}#sk-container-id-1 div.sk-text-repr-fallback {display: none;}</style><div id=\"sk-container-id-1\" class=\"sk-top-container\"><div class=\"sk-text-repr-fallback\"><pre>GridSearchCV(cv=5, estimator=RandomForestRegressor(random_state=0), n_jobs=-1,\n",
       "             param_grid={&#x27;max_depth&#x27;: [None, 10, 20, 30, 50],\n",
       "                         &#x27;min_samples_split&#x27;: [2, 3, 4, 5, 10, 15],\n",
       "                         &#x27;n_estimators&#x27;: [50, 100, 200, 250, 300]},\n",
       "             scoring=&#x27;neg_mean_squared_error&#x27;)</pre><b>In a Jupyter environment, please rerun this cell to show the HTML representation or trust the notebook. <br />On GitHub, the HTML representation is unable to render, please try loading this page with nbviewer.org.</b></div><div class=\"sk-container\" hidden><div class=\"sk-item sk-dashed-wrapped\"><div class=\"sk-label-container\"><div class=\"sk-label sk-toggleable\"><input class=\"sk-toggleable__control sk-hidden--visually\" id=\"sk-estimator-id-1\" type=\"checkbox\" ><label for=\"sk-estimator-id-1\" class=\"sk-toggleable__label sk-toggleable__label-arrow\">GridSearchCV</label><div class=\"sk-toggleable__content\"><pre>GridSearchCV(cv=5, estimator=RandomForestRegressor(random_state=0), n_jobs=-1,\n",
       "             param_grid={&#x27;max_depth&#x27;: [None, 10, 20, 30, 50],\n",
       "                         &#x27;min_samples_split&#x27;: [2, 3, 4, 5, 10, 15],\n",
       "                         &#x27;n_estimators&#x27;: [50, 100, 200, 250, 300]},\n",
       "             scoring=&#x27;neg_mean_squared_error&#x27;)</pre></div></div></div><div class=\"sk-parallel\"><div class=\"sk-parallel-item\"><div class=\"sk-item\"><div class=\"sk-label-container\"><div class=\"sk-label sk-toggleable\"><input class=\"sk-toggleable__control sk-hidden--visually\" id=\"sk-estimator-id-2\" type=\"checkbox\" ><label for=\"sk-estimator-id-2\" class=\"sk-toggleable__label sk-toggleable__label-arrow\">estimator: RandomForestRegressor</label><div class=\"sk-toggleable__content\"><pre>RandomForestRegressor(random_state=0)</pre></div></div></div><div class=\"sk-serial\"><div class=\"sk-item\"><div class=\"sk-estimator sk-toggleable\"><input class=\"sk-toggleable__control sk-hidden--visually\" id=\"sk-estimator-id-3\" type=\"checkbox\" ><label for=\"sk-estimator-id-3\" class=\"sk-toggleable__label sk-toggleable__label-arrow\">RandomForestRegressor</label><div class=\"sk-toggleable__content\"><pre>RandomForestRegressor(random_state=0)</pre></div></div></div></div></div></div></div></div></div></div>"
      ],
      "text/plain": [
       "GridSearchCV(cv=5, estimator=RandomForestRegressor(random_state=0), n_jobs=-1,\n",
       "             param_grid={'max_depth': [None, 10, 20, 30, 50],\n",
       "                         'min_samples_split': [2, 3, 4, 5, 10, 15],\n",
       "                         'n_estimators': [50, 100, 200, 250, 300]},\n",
       "             scoring='neg_mean_squared_error')"
      ]
     },
     "execution_count": 94,
     "metadata": {},
     "output_type": "execute_result"
    }
   ],
   "source": [
    "model = RandomForestRegressor(random_state=0)\n",
    "\n",
    "gs = GridSearchCV(estimator=model, param_grid=params_grid, cv=5, scoring='neg_mean_squared_error', n_jobs=-1)\n",
    "gs.fit(X_train, y_train)"
   ]
  },
  {
   "cell_type": "code",
   "execution_count": 95,
   "id": "ede2f9f5-8f1a-423d-addd-afd40e40a0a5",
   "metadata": {},
   "outputs": [
    {
     "data": {
      "text/plain": [
       "{'max_depth': 20, 'min_samples_split': 15, 'n_estimators': 300}"
      ]
     },
     "execution_count": 95,
     "metadata": {},
     "output_type": "execute_result"
    }
   ],
   "source": [
    "gs.best_params_"
   ]
  },
  {
   "cell_type": "code",
   "execution_count": 96,
   "id": "4d820feb-0c3f-4cd3-93c0-ff4d5df254bc",
   "metadata": {},
   "outputs": [],
   "source": [
    "model = RandomForestRegressor(max_depth=20, min_samples_split=15, n_estimators=300, random_state=0)"
   ]
  },
  {
   "cell_type": "code",
   "execution_count": 97,
   "id": "0ac799ac-ad6b-4369-a5af-472012755683",
   "metadata": {},
   "outputs": [
    {
     "data": {
      "text/html": [
       "<style>#sk-container-id-2 {color: black;}#sk-container-id-2 pre{padding: 0;}#sk-container-id-2 div.sk-toggleable {background-color: white;}#sk-container-id-2 label.sk-toggleable__label {cursor: pointer;display: block;width: 100%;margin-bottom: 0;padding: 0.3em;box-sizing: border-box;text-align: center;}#sk-container-id-2 label.sk-toggleable__label-arrow:before {content: \"▸\";float: left;margin-right: 0.25em;color: #696969;}#sk-container-id-2 label.sk-toggleable__label-arrow:hover:before {color: black;}#sk-container-id-2 div.sk-estimator:hover label.sk-toggleable__label-arrow:before {color: black;}#sk-container-id-2 div.sk-toggleable__content {max-height: 0;max-width: 0;overflow: hidden;text-align: left;background-color: #f0f8ff;}#sk-container-id-2 div.sk-toggleable__content pre {margin: 0.2em;color: black;border-radius: 0.25em;background-color: #f0f8ff;}#sk-container-id-2 input.sk-toggleable__control:checked~div.sk-toggleable__content {max-height: 200px;max-width: 100%;overflow: auto;}#sk-container-id-2 input.sk-toggleable__control:checked~label.sk-toggleable__label-arrow:before {content: \"▾\";}#sk-container-id-2 div.sk-estimator input.sk-toggleable__control:checked~label.sk-toggleable__label {background-color: #d4ebff;}#sk-container-id-2 div.sk-label input.sk-toggleable__control:checked~label.sk-toggleable__label {background-color: #d4ebff;}#sk-container-id-2 input.sk-hidden--visually {border: 0;clip: rect(1px 1px 1px 1px);clip: rect(1px, 1px, 1px, 1px);height: 1px;margin: -1px;overflow: hidden;padding: 0;position: absolute;width: 1px;}#sk-container-id-2 div.sk-estimator {font-family: monospace;background-color: #f0f8ff;border: 1px dotted black;border-radius: 0.25em;box-sizing: border-box;margin-bottom: 0.5em;}#sk-container-id-2 div.sk-estimator:hover {background-color: #d4ebff;}#sk-container-id-2 div.sk-parallel-item::after {content: \"\";width: 100%;border-bottom: 1px solid gray;flex-grow: 1;}#sk-container-id-2 div.sk-label:hover label.sk-toggleable__label {background-color: #d4ebff;}#sk-container-id-2 div.sk-serial::before {content: \"\";position: absolute;border-left: 1px solid gray;box-sizing: border-box;top: 0;bottom: 0;left: 50%;z-index: 0;}#sk-container-id-2 div.sk-serial {display: flex;flex-direction: column;align-items: center;background-color: white;padding-right: 0.2em;padding-left: 0.2em;position: relative;}#sk-container-id-2 div.sk-item {position: relative;z-index: 1;}#sk-container-id-2 div.sk-parallel {display: flex;align-items: stretch;justify-content: center;background-color: white;position: relative;}#sk-container-id-2 div.sk-item::before, #sk-container-id-2 div.sk-parallel-item::before {content: \"\";position: absolute;border-left: 1px solid gray;box-sizing: border-box;top: 0;bottom: 0;left: 50%;z-index: -1;}#sk-container-id-2 div.sk-parallel-item {display: flex;flex-direction: column;z-index: 1;position: relative;background-color: white;}#sk-container-id-2 div.sk-parallel-item:first-child::after {align-self: flex-end;width: 50%;}#sk-container-id-2 div.sk-parallel-item:last-child::after {align-self: flex-start;width: 50%;}#sk-container-id-2 div.sk-parallel-item:only-child::after {width: 0;}#sk-container-id-2 div.sk-dashed-wrapped {border: 1px dashed gray;margin: 0 0.4em 0.5em 0.4em;box-sizing: border-box;padding-bottom: 0.4em;background-color: white;}#sk-container-id-2 div.sk-label label {font-family: monospace;font-weight: bold;display: inline-block;line-height: 1.2em;}#sk-container-id-2 div.sk-label-container {text-align: center;}#sk-container-id-2 div.sk-container {/* jupyter's `normalize.less` sets `[hidden] { display: none; }` but bootstrap.min.css set `[hidden] { display: none !important; }` so we also need the `!important` here to be able to override the default hidden behavior on the sphinx rendered scikit-learn.org. See: https://github.com/scikit-learn/scikit-learn/issues/21755 */display: inline-block !important;position: relative;}#sk-container-id-2 div.sk-text-repr-fallback {display: none;}</style><div id=\"sk-container-id-2\" class=\"sk-top-container\"><div class=\"sk-text-repr-fallback\"><pre>RandomForestRegressor(max_depth=20, min_samples_split=15, n_estimators=300,\n",
       "                      random_state=0)</pre><b>In a Jupyter environment, please rerun this cell to show the HTML representation or trust the notebook. <br />On GitHub, the HTML representation is unable to render, please try loading this page with nbviewer.org.</b></div><div class=\"sk-container\" hidden><div class=\"sk-item\"><div class=\"sk-estimator sk-toggleable\"><input class=\"sk-toggleable__control sk-hidden--visually\" id=\"sk-estimator-id-4\" type=\"checkbox\" checked><label for=\"sk-estimator-id-4\" class=\"sk-toggleable__label sk-toggleable__label-arrow\">RandomForestRegressor</label><div class=\"sk-toggleable__content\"><pre>RandomForestRegressor(max_depth=20, min_samples_split=15, n_estimators=300,\n",
       "                      random_state=0)</pre></div></div></div></div></div>"
      ],
      "text/plain": [
       "RandomForestRegressor(max_depth=20, min_samples_split=15, n_estimators=300,\n",
       "                      random_state=0)"
      ]
     },
     "execution_count": 97,
     "metadata": {},
     "output_type": "execute_result"
    }
   ],
   "source": [
    "model.fit(X_train, y_train)"
   ]
  },
  {
   "cell_type": "code",
   "execution_count": 98,
   "id": "62bd73a9-68b0-4eb0-8c44-e0f940632a0c",
   "metadata": {},
   "outputs": [
    {
     "name": "stdout",
     "output_type": "stream",
     "text": [
      "Ошибка:  0.09002462152863416\n"
     ]
    }
   ],
   "source": [
    "y_pred = model.predict(X_test)\n",
    "print(\"Ошибка: \", mean_absolute_error(y_pred, y_test))"
   ]
  },
  {
   "cell_type": "markdown",
   "id": "a4d88e8b-92c3-4838-b2ce-069a184df4da",
   "metadata": {},
   "source": [
    "Результат стал на 0.004 лучше"
   ]
  },
  {
   "cell_type": "markdown",
   "id": "319032fb-11bc-45ac-b264-29769b7fb3d3",
   "metadata": {},
   "source": [
    "Теперь предстоит выяснить, насколько результат хороший/плохой, так как полученное число слишком абстрактно.  \n",
    "Ранее были проведены некоторые преобразования, изменившие столбцы с продажами, а именно, взят натуральный логарифм из каждого числа. Для того, чтобы понять истинный размер ошибки, нужно восстановить результат с помощью функции np.expm1"
   ]
  },
  {
   "cell_type": "code",
   "execution_count": 99,
   "id": "1bae1f24-26f0-4a6f-afde-01a0f293e8c2",
   "metadata": {},
   "outputs": [
    {
     "data": {
      "text/plain": [
       "0.09420122428032508"
      ]
     },
     "execution_count": 99,
     "metadata": {},
     "output_type": "execute_result"
    }
   ],
   "source": [
    "mae = mean_absolute_error(y_pred, y_test)\n",
    "np.expm1(mae)"
   ]
  },
  {
   "cell_type": "markdown",
   "id": "8b98434c-a128-4741-909a-37e894a5e950",
   "metadata": {},
   "source": [
    "Теперь нужно получить среднее всех значений и исходя из этого понять размер ошибки:"
   ]
  },
  {
   "cell_type": "code",
   "execution_count": 100,
   "id": "51b1e343-7434-4e7d-b313-2a0f1dcc7423",
   "metadata": {},
   "outputs": [
    {
     "data": {
      "text/plain": [
       "0.1623218354220663"
      ]
     },
     "execution_count": 100,
     "metadata": {},
     "output_type": "execute_result"
    }
   ],
   "source": [
    "mean = df_final.Global_Sales.mean()\n",
    "np.expm1(mean)"
   ]
  },
  {
   "cell_type": "code",
   "execution_count": 101,
   "id": "5cb9402d-552e-4fee-a04b-5f8653bb9cd3",
   "metadata": {},
   "outputs": [
    {
     "data": {
      "text/plain": [
       "0.5803361207405323"
      ]
     },
     "execution_count": 101,
     "metadata": {},
     "output_type": "execute_result"
    }
   ],
   "source": [
    "np.expm1(mae) / np.expm1(mean)"
   ]
  },
  {
   "cell_type": "markdown",
   "id": "f9145f5e-8e78-4454-8734-84472de9f183",
   "metadata": {},
   "source": [
    "58% ошибочных данных. Что значит, что больше, чем в половине случаев модель будет выдавать результат с отклонением в 0.09. Если для тестовых данных с большим значением глобальных продаж эта ошибка относительно незначительна, то с маленькими значениями будет заметное отклонение. С другой стороны, такую модель можно использовать в сервисах, где не важна точная оценка прогноза продаж. Возможно, если бы в изначальных данных были более большие и целые значения продаж с распределением, близкому к нормальному, можно было бы получить намного более высокую точность предсказаний, но с такими неравномерными данными результат можно считать неплохим"
   ]
  },
  {
   "cell_type": "code",
   "execution_count": 103,
   "id": "bdf2ed3f-74fd-4879-b166-ea796e20c842",
   "metadata": {},
   "outputs": [],
   "source": [
    "import sklearn"
   ]
  },
  {
   "cell_type": "code",
   "execution_count": 104,
   "id": "013ee74f-2568-4a70-aea9-e350bc003d23",
   "metadata": {},
   "outputs": [
    {
     "data": {
      "text/plain": [
       "'1.3.1'"
      ]
     },
     "execution_count": 104,
     "metadata": {},
     "output_type": "execute_result"
    }
   ],
   "source": [
    "sklearn.__version__"
   ]
  }
 ],
 "metadata": {
  "kernelspec": {
   "display_name": "Python 3.9.0 64-bit",
   "language": "python",
   "name": "python3"
  },
  "language_info": {
   "codemirror_mode": {
    "name": "ipython",
    "version": 3
   },
   "file_extension": ".py",
   "mimetype": "text/x-python",
   "name": "python",
   "nbconvert_exporter": "python",
   "pygments_lexer": "ipython3",
   "version": "3.9.0"
  },
  "vscode": {
   "interpreter": {
    "hash": "1adcc5bb60c8309f4366c9b9f69dc5702172d60ddf7bdb4cf477ac943c8f228b"
   }
  }
 },
 "nbformat": 4,
 "nbformat_minor": 5
}
